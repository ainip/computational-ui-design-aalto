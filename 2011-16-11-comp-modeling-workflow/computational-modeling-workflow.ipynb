{
 "cells": [
  {
   "cell_type": "markdown",
   "id": "51b99b44",
   "metadata": {},
   "source": [
    "<p style=\"font-size:20px\">ELEC-E7851 - Computational User Interface Design<br></p>\n",
    "<p style=\"font-size:30px\"><b>Computational Modeling Workflow</b></p>"
   ]
  },
  {
   "cell_type": "markdown",
   "id": "bbfd6725",
   "metadata": {},
   "source": [
    "**Aini Putkonen**, Aalto University\n",
    "\n",
    "*Materials adapted from [Aurélien Nioche](https://github.com/AurelienNioche/LectureUserResearch/blob/master/OLD_lecture10.ipynb)*. If you have any questions or suggestions for the materials, please contact aini.putkonen@aalto.fi."
   ]
  },
  {
   "cell_type": "markdown",
   "id": "bed929bf",
   "metadata": {},
   "source": [
    "<div class=\"alert alert-block alert-success\">\n",
    "<h2><a class=\"tocSkip\"></a>&nbsp;Learning objectives</h2>\n",
    "    \n",
    "<ul>\n",
    "<li>Understand what is required of a good computational model of behavioral data.</li>\n",
    "<li>Understand main steps in a systematic modeling workflow.</li>\n",
    "<li>Be able to work through a modeling problem using a simple workflow.</li>\n",
    "</ul>\n",
    "</div>"
   ]
  },
  {
   "cell_type": "markdown",
   "id": "00a87392",
   "metadata": {},
   "source": [
    "<h2><a class=\"tocSkip\"></a>&nbsp;Overview of the lecture</h2>"
   ]
  },
  {
   "cell_type": "markdown",
   "id": "01b69ac3",
   "metadata": {},
   "source": [
    "* What are computational models?\n",
    "    * Examples of computational models in human-computer interaction\n",
    "    * Features of a good computational model\n",
    "* What is a computational modeling workflow?\n",
    "* A simple workflow for computational modeling\n",
    "    * Case introduction: Modeling user as a multi-armed bandit\n",
    "    * Modeling workflow used in this lecture\n",
    "    * Python setup\n",
    "    * Bandit task definition\n",
    "    * Defining candidate models\n",
    "        * Candidate model 1: Random\n",
    "        * Candidate model 2: Win-Stay Lose-Switch\n",
    "        * Candidate model 3: Rescorla-Wagner\n",
    "    * Forward simulation\n",
    "    * In class exercise: Forward simulation\n",
    "    * Parameter inference (generated data)\n",
    "        * Define a likelihood function\n",
    "        * Choose a method for fitting parameters\n",
    "        * Generate data and fit\n",
    "        * Explore parameter space\n",
    "    * Parameter recovery\n",
    "    * Parameter inference (experimental data)\n",
    "    * Model comparison\n",
    "* Summary\n",
    "* Advanced topics\n",
    "    * Group-level analysis\n",
    "    * Bayesian inference\n",
    "    * Other model checks\n",
    "* References"
   ]
  },
  {
   "cell_type": "markdown",
   "id": "b60880c1",
   "metadata": {},
   "source": [
    "# What are computational models?"
   ]
  },
  {
   "cell_type": "markdown",
   "id": "592a27f0",
   "metadata": {},
   "source": [
    "<div class=\"alert alert-block alert-success\">\n",
    "<h4><a class=\"tocSkip\"></a>&nbsp;Goal</h4> \n",
    "Understand what is required of a good computational model of behavioral data.\n",
    "</div>"
   ]
  },
  {
   "cell_type": "markdown",
   "id": "fe209646",
   "metadata": {},
   "source": [
    "[**Broad definition**](https://www.nature.com/subjects/computational-models):"
   ]
  },
  {
   "cell_type": "markdown",
   "id": "fd27111f",
   "metadata": {},
   "source": [
    "<p style=\"font-size:20px; padding-left: 120px; padding-right: 120px;text-align: center;line-height:150%;\" ><i> \"Computational models are <b>mathematical models</b> that are <b>simulated</b> using computation to study <b>complex systems</b>.\"</i></p>"
   ]
  },
  {
   "cell_type": "markdown",
   "id": "1fec168a",
   "metadata": {},
   "source": [
    "<div class=\"alert alert-block alert-info\">\n",
    "In this lecture, we focus on <i>human behavior</i>, whereby the simulated models aim to capture some latent features of cognition. Why? Because in HCI in many applications we might be interested in modeling the behavior of a user (e.g., in visual search tasks, active learning or menu optimization).\n",
    "</div>"
   ]
  },
  {
   "cell_type": "markdown",
   "id": "1d75b72c",
   "metadata": {},
   "source": [
    "Alternatively, we can define computational cognitive modeling as follows ([Kangasrääsiö et al., 2019, p.5](https://doi.org/10.1111/cogs.12738)):"
   ]
  },
  {
   "cell_type": "markdown",
   "id": "abb5dabb",
   "metadata": {},
   "source": [
    "<p style=\"font-size:20px; padding-left: 120px; padding-right: 120px;text-align: center;line-height:150%;\" >Computational cognitive models<i> are built to <b>simulate human cognition</b> through the stepwise execution of a program. Like other models, cognitive models <b>map model parameters to predictions</b> of cognitive behavior.</i></p>"
   ]
  },
  {
   "cell_type": "markdown",
   "id": "36716a5b",
   "metadata": {},
   "source": [
    "## Examples of computational models in human-computer interaction\n",
    "\n",
    "Computational modeling is prevalent in HCI. Typically, results produced by a given computational model are compared to those resulting from experiments with humans. If the performance of the model is similar to that of humans, it may explain some aspects of the behavior underlying data. Some example application areas of computational models in HCI are included below. In addition, see p.6 [here](https://doi.org/10.1109/JPROC.2020.2969687).\n",
    "\n",
    "**Visual search**\n",
    "\n",
    "Computational models have been used in visual search tasks, where a target is detected in an environment (which may include distractors). For instance, [Butko and Movellan (2008)](https://doi.org/10.1109/DEVLRN.2008.4640819) approach visual search task by modeling it as a partially observable Markov process to capture the characteristics of the visual system, building on the model proposed by [Najemnik and Geisler (2005)](https://doi.org/10.1038/nature03390). In addition, [Hoppe & Rothkopf (2019)](https://doi.org/10.1038/s41598-018-37536-0) propose that the human visual system is capable of planning beyond the following fixation through a belief Markov decision process."
   ]
  },
  {
   "cell_type": "markdown",
   "id": "2cfaf375",
   "metadata": {},
   "source": [
    "<img src=\"img/distractor-ratio.jpg\" width=\"300\">\n",
    "<em>A distractor-ratio task, where the target is a red circle. Redrawn from Acharya et al. (2017).</em>"
   ]
  },
  {
   "cell_type": "markdown",
   "id": "8eed6d6b",
   "metadata": {},
   "source": [
    "\n",
    "**Intelligent tutoring systems**\n",
    "\n",
    "Some intelligent tutoring systems leverage information they can infer about the learner. For instance, [Nioche et al. (2020)](https://doi.org/10.1145/3397481.3450696) takes into account the learner's memory model. In addition, as discussed later in this notebook, some applications approach intelligent tutoring systems as bandit tasks, where the teacher is modeled.\n",
    "\n",
    "**Menu search**\n",
    "\n",
    "Computational models can be used to understand how users search menus. [Chen et al. (2015)](https://doi.org/10.1145/2702123.2702483) model menu search as a [Markov decision process](https://en.wikipedia.org/wiki/Markov_decision_process), where search adapts to the ecological constraints of the environment and cognitive and percpetual limits. Earlier work by [Hornof & Kieras (1997)](https://doi.org/10.1145/258549.258621) uses the EPIC cognitive architecture model a menu selection task to discover that people tend to process more than one menu item at once and display both random and systematic search strategies."
   ]
  },
  {
   "cell_type": "markdown",
   "id": "55633dc6",
   "metadata": {},
   "source": [
    "<img src=\"img/menu-search.jpg\" width=\"200\">\n",
    "<em>Example menu search task, where target is the \"Save...\" functionality.</em>"
   ]
  },
  {
   "cell_type": "markdown",
   "id": "dfee7b2e",
   "metadata": {},
   "source": [
    "**Multi-tasking**\n",
    "\n",
    "Computational models can also be used to understand multi-tasking. [Jokinen et al. (2020)](https://doi.org/10.1177/0018720820927687) use hierarchical reinforcement learning to model the driver's visual attention."
   ]
  },
  {
   "cell_type": "markdown",
   "id": "09bd81a8",
   "metadata": {},
   "source": [
    "<img style=\"display: inline;\" src=\"img/tick.jpg\" width=\"50\" alt=\"tick\" />\n",
    "<h2 style=\"display: inline;\">Features of a good computational model</h2>"
   ]
  },
  {
   "cell_type": "markdown",
   "id": "314eb65e",
   "metadata": {},
   "source": [
    "A good computational model is difficult to build. Some features of a good computational model include (see, e.g., [Wilson & Collins, 2019](https://doi.org/10.7554/eLife.49547) and [Palminteri et al., 2017](https://doi.org/10.1016/j.tics.2017.03.011)):\n",
    "\n",
    "* **Theoretical plausibility:** Computational models should include constructs that are theoretically plausible.\n",
    "\n",
    "* **Description of some latent processes underlying behavior:** We are interested in understanding human behavior. Hence, a computational model should seek to explain some unobservable processes in cognition and behavior.\n",
    "\n",
    "* **Parsimony:** Models should be as simple as needed.\n",
    "\n",
    "* **Good predictive and generative performance**: In addition to being able to explain the modeled data, a good computational model should also be able to generate the behavior of interest."
   ]
  },
  {
   "cell_type": "markdown",
   "id": "cc65a5d3",
   "metadata": {},
   "source": [
    "# What is a computational modeling workflow?"
   ]
  },
  {
   "cell_type": "markdown",
   "id": "dbdbb471",
   "metadata": {},
   "source": [
    "<div class=\"alert alert-block alert-success\">\n",
    "<h4><a class=\"tocSkip\"></a>&nbsp;Goal</h4> \n",
    "Understand main steps in a systematic modeling workflow.\n",
    "</div>"
   ]
  },
  {
   "cell_type": "markdown",
   "id": "7b504d09",
   "metadata": {},
   "source": [
    "<div class=\"alert alert-block alert-success\">\n",
    "After this lecture, you should be able to avoid the following mistakes in computational modeling:\n",
    "\n",
    "* Applying a model and an inference technique when the task doesn't allow it\n",
    "* Implementation errors\n",
    "* Accepting a model without comparing it to alternative explanations\n",
    "</div>"
   ]
  },
  {
   "cell_type": "markdown",
   "id": "2d6d3eb3",
   "metadata": {},
   "source": [
    "Many steps required in cognitive modeling have previously been passed on from modeler to modeler verbally ([Heathcote et al., 2015](https://doi.org/10.1007/978-1-4939-2236-9_2)), which has lead to attempts to collect them to systematic guidelines or workflows. The term workflow used in this notebook has been inspired by the use of the term in the context of Bayesian Data Analysis and software development. Using the definition from [Gelman et al. (2020, p.4)](https://arxiv.org/abs/2011.01808), a workflow is \"*more general than an example but less precisely specified than a method*\".\n",
    "\n",
    "A computational modeling workflow should be applied for at least two purposes:\n",
    "\n",
    "1. To build a candidate model and an experiment iteratively.\n",
    "2. To sanity check the chosen model and inference technique used (including software).\n",
    "\n",
    "Examples of in depth workflow diagrams can be found from [Gelman et al. (2020)](https://deepai.org/publication/bayesian-workflow) and [Wilson & Collins (2019)](https://iiif.elifesciences.org/lax/49547%2Felife-49547-fig1-v2.tif/full/,1500/0/default.jpg).\n",
    "\n",
    "Let's consider the two purposes mentioned above in more detail."
   ]
  },
  {
   "cell_type": "markdown",
   "id": "8a753d4e",
   "metadata": {},
   "source": [
    "<h2><a class=\"tocSkip\"></a>&nbsp;Building a candidate model and an experiment iteratively</h2>"
   ]
  },
  {
   "cell_type": "markdown",
   "id": "b48e712c",
   "metadata": {},
   "source": [
    "**Candidate model**\n",
    "\n",
    "A modeling workflow can be used to iteratively build a model, which, for instance, [Gelman et al. (2020)](https://arxiv.org/abs/2011.01808) suggest. That is, in the beginning of modeling, it may be difficult to foresee which considerations could be interesting, calling for iterative model building.\n",
    "\n",
    "**Experiment**\n",
    "\n",
    "If the dataset used in computational modeling is not collected, the workflow can be used to improve data collection. That is, the experiment can be fine tuned to be as informative as possible for given candidate models. This is something [Wilson & Collins (2019)](https://doi.org/10.7554/eLife.49547) propose as the first part of their workflow."
   ]
  },
  {
   "cell_type": "markdown",
   "id": "c9989c79",
   "metadata": {},
   "source": [
    "<h2><a class=\"tocSkip\"></a>&nbsp;Validating the chosen model and inference technique used (including software)</h2>"
   ]
  },
  {
   "cell_type": "markdown",
   "id": "40bbd3d5",
   "metadata": {},
   "source": [
    "**Model and inference technique**\n",
    "\n",
    "Sometimes the chosen model and inference technique may not produce results that are reliable. This may result from many reasons, calls for double-checking the model specification and/or inference technique.\n",
    "\n",
    "**Software**\n",
    "\n",
    "As the name suggests, computational modeling is undertaken using some software, often handling very complex modeling scenarios. This makes the modeling process prone to programming errors. A systematic computational modeling workflow helps in catching errors in software. "
   ]
  },
  {
   "cell_type": "markdown",
   "id": "f4b63707",
   "metadata": {},
   "source": [
    "<div class=\"alert alert-block alert-info\">\n",
    "Can you think of any other reasons why computational modeling could go wrong?\n",
    "</div>"
   ]
  },
  {
   "cell_type": "markdown",
   "id": "095e1e55",
   "metadata": {},
   "source": [
    "# A simple workflow for computational modeling"
   ]
  },
  {
   "cell_type": "markdown",
   "id": "cadc5e3a",
   "metadata": {},
   "source": [
    "<div class=\"alert alert-block alert-success\">\n",
    "<h4><a class=\"tocSkip\"></a>&nbsp;Goal</h4> \n",
    "Be able to work through a modeling problem using a simple workflow.\n",
    "</div>"
   ]
  },
  {
   "cell_type": "markdown",
   "id": "7729430c",
   "metadata": {},
   "source": [
    "## Case introduction: A multi-armed bandit task\n",
    "\n",
    "Assume that we're trying to model an agent in [a multi-armed bandit task](https://en.wikipedia.org/wiki/Multi-armed_bandit) from reinforcement learning. Specifically, imagine that the agent is faced with a choice between $N$ competing options and has a partial access to the properties of these options. The typical analogy is to consider a gambler who has to choose between different slot machines, having only partial access to the probability of obtaining a reward from each. The participant's goal is to maximize rewards from this task at a given number of time steps $T$."
   ]
  },
  {
   "cell_type": "markdown",
   "id": "d636bc44",
   "metadata": {},
   "source": [
    "<img src=\"img/selection-example.jpg\" width=\"400\">\n",
    "<em>A bandit task where a user has to choose between two options A and B, giving a reward with probability 0.5 and 0.75, respectively. How does this user learn the probabilities of rewards from these two options?</em>"
   ]
  },
  {
   "cell_type": "markdown",
   "id": "bb81446c",
   "metadata": {},
   "source": [
    "<div class=\"alert alert-block alert-info\">\n",
    "Similar to reinforcement learning, in this notebook the term <a href=\"https://en.wikipedia.org/wiki/Intelligent_agent\"><i>agent</i></a> refers to an entity observing its environment and taking action based on their objective function. In our context, the agents represent humans behaving according to a given candidate model. In the context of HCI, the environment could be an adaptive system a user interacts with, where the user behaves according to some user model $M$.\n",
    "</div>"
   ]
  },
  {
   "cell_type": "markdown",
   "id": "e4c764ae",
   "metadata": {},
   "source": [
    "<div class=\"alert alert-block alert-info\">\n",
    "In HCI, multi-armed bandits are used in, for instance, intelligent tutoring and recommender systems (e.g. <a href=\"https://doi.org/10.5281/zenodo.3554667\">Clement et al., 2015</a> and <a href=\"https://doi.org/10.1145/3383313.3411547\">Barraza-Urbina & Glowacka, 2020</a>). Note, however, that in these settings \"the gambler\" can be the system itself, providing recommendations based on exploration-exploitation of the user's responses, and they might hold a separate model of the user.\n",
    "</div>"
   ]
  },
  {
   "cell_type": "markdown",
   "id": "add53385",
   "metadata": {},
   "source": [
    "## Modeling workflow used in this lecture"
   ]
  },
  {
   "cell_type": "markdown",
   "id": "9e48f992",
   "metadata": {},
   "source": [
    "In this section, a simple workflow for computational modeling is presented. Specifically, the following steps are considered:\n",
    "\n",
    "- Forward simulations of a candidate model\n",
    "- Parameter inference (using generated and experimental data)\n",
    "- Parameter recovery\n",
    "- Model comparison"
   ]
  },
  {
   "cell_type": "markdown",
   "id": "b015bf8f",
   "metadata": {},
   "source": [
    "<img src=\"img/simple-modeling-workflow.jpg\" width=\"800\">"
   ]
  },
  {
   "cell_type": "markdown",
   "id": "9ceed842",
   "metadata": {},
   "source": [
    "The workflow is implemented in Python. We will walk through an implementation of the workflow for an individual agent (implementation for a group of agents is included in advanced topics). "
   ]
  },
  {
   "cell_type": "markdown",
   "id": "6d08dfbc",
   "metadata": {},
   "source": [
    "<img src=\"img/individual-group.jpg\" width=\"800\">"
   ]
  },
  {
   "cell_type": "markdown",
   "id": "69d22783",
   "metadata": {},
   "source": [
    "However, before implementing these modeling steps, we do the following:\n",
    "   \n",
    "- Define Python setup\n",
    "- Define the task to be modeled\n",
    "- Define candidate models"
   ]
  },
  {
   "cell_type": "markdown",
   "id": "e2d84473",
   "metadata": {},
   "source": [
    "<div class=\"alert alert-block alert-warning\">\n",
    "Note that even though we consider relatively simple examples in this notebook, the presented methods can be extended to more complex models.\n",
    "</div>"
   ]
  },
  {
   "cell_type": "markdown",
   "id": "14ff4ec9",
   "metadata": {},
   "source": [
    "## Python setup\n",
    "\n",
    "Ensure that the libraries below are installed in the environment."
   ]
  },
  {
   "cell_type": "code",
   "execution_count": 1,
   "id": "0e95edc4",
   "metadata": {},
   "outputs": [],
   "source": [
    "import pandas as pd\n",
    "import numpy as np\n",
    "import os\n",
    "import matplotlib.pyplot as plt\n",
    "import seaborn as sns\n",
    "from tqdm import tqdm\n",
    "import sys\n",
    "import scipy\n",
    "from itertools import product\n",
    "\n",
    "from IPython.display import display, Math\n",
    "%config InlineBackend.figure_format='retina'"
   ]
  },
  {
   "cell_type": "code",
   "execution_count": 2,
   "id": "a4eb035c",
   "metadata": {},
   "outputs": [],
   "source": [
    "# Define a folder for the bkp\n",
    "BKP_FOLDER = \"bkp\"\n",
    "DATA_FOLDER = \"data\"\n",
    "\n",
    "# Create this folder if it doesn't exist\n",
    "os.makedirs(BKP_FOLDER, exist_ok=True)"
   ]
  },
  {
   "cell_type": "markdown",
   "id": "3e457ad9",
   "metadata": {},
   "source": [
    "## Bandit task definition\n",
    "\n",
    "Parameters: \n",
    "* Number of option ($N$)\n",
    "* Distribution of probability over these options ($\\{p_{\\text{reward}}(i)\\}_{i\\in N}$)\n",
    "* Number of trials ($T$)"
   ]
  },
  {
   "cell_type": "code",
   "execution_count": 3,
   "id": "29127c04",
   "metadata": {},
   "outputs": [],
   "source": [
    "# Define the parameters of the bandit task\n",
    "\n",
    "N = 2 # Number of options\n",
    "P = np.array([0.5, 0.75]) # Probability of different options\n",
    "T = 500 # Number of trials"
   ]
  },
  {
   "cell_type": "markdown",
   "id": "b9bcc477",
   "metadata": {},
   "source": [
    "## Defining candidate models\n",
    "\n",
    "A good choice of a candidate model depends on the task modeled, and whether a iterative model building approach is used (see [Gelman et al. 2020](https://arxiv.org/abs/2011.01808)). Also see section above on what makes a computational model good. In this notebook, we consider three candidate models: 1) random selection, 2) win-stay lose-switch and 3) Rescorla-Wagner."
   ]
  },
  {
   "cell_type": "markdown",
   "id": "41f45414",
   "metadata": {},
   "source": [
    "In the chosen multi-armed bandit task, we will consider that each agent has the opportunity at each $t\\in T$ to:\n",
    "<ul>\n",
    "    <li><b>Choose:</b> we will define for each model a \"decision rule\", more precisely, we model a probability distribution over the action choices such as:\n",
    "\\begin{equation}\n",
    "\\forall i: p_{\\text{choice}}(i) \\in [0, 1] \\wedge \\sum_{i}^N p_{\\text{choice}}(i) = 1\n",
    "\\end{equation}\n",
    "</ul>\n",
    "<ul>\n",
    "    <li><b>Learn:</b> we will define for each model an \"updating rule\".\n",
    "</ul>"
   ]
  },
  {
   "cell_type": "code",
   "execution_count": 4,
   "id": "b6336847",
   "metadata": {},
   "outputs": [],
   "source": [
    "class GenericPlayer:\n",
    "    \n",
    "    \"\"\"\n",
    "    Generic Player\n",
    "    \"\"\"\n",
    "    \n",
    "    param_labels = ()\n",
    "    fit_bounds = ()\n",
    "\n",
    "    def __init__(self):\n",
    "        self.options = np.arange(N)\n",
    "        \n",
    "    def decision_rule(self):\n",
    "        raise NotImplementedError\n",
    "\n",
    "    def learning_rule(self, option, success):\n",
    "        raise NotImplementedError\n",
    "        \n",
    "    def choose(self):\n",
    "        p = self.decision_rule()\n",
    "        return np.random.choice(self.options, p=p)"
   ]
  },
  {
   "cell_type": "markdown",
   "id": "d0647d9e",
   "metadata": {},
   "source": [
    "<div class=\"alert alert-block alert-warning\">\n",
    "The three candidate models (random selection, win-stay lose-switch and Rescorla-Wagner) inherit from the  <code> GenericPlayer</code> class.\n",
    "</div>"
   ]
  },
  {
   "cell_type": "markdown",
   "id": "4a9c6dce",
   "metadata": {},
   "source": [
    "### Candidate model 1: Random\n",
    "\n",
    "The first candidate model is simply random selection: the agent is equally likely to pick any of the $N$ presented options."
   ]
  },
  {
   "cell_type": "markdown",
   "id": "ce77b6db",
   "metadata": {},
   "source": [
    "**Random selection**\n",
    "\n",
    "* Decision rule:\n",
    "\n",
    "\\begin{equation}\n",
    "p_{\\text{choice}}(i) = 1/N\n",
    "\\end{equation}"
   ]
  },
  {
   "cell_type": "code",
   "execution_count": 5,
   "id": "29e1aa53",
   "metadata": {},
   "outputs": [],
   "source": [
    "class Random(GenericPlayer):\n",
    "    \n",
    "    \"\"\"\n",
    "    Random selection\n",
    "    \"\"\"\n",
    "\n",
    "    def __init__(self):\n",
    "        super().__init__()\n",
    "\n",
    "    def decision_rule(self):\n",
    "        return np.ones(N) / N\n",
    "    \n",
    "    def learning_rule(self, option, success):\n",
    "        pass"
   ]
  },
  {
   "cell_type": "markdown",
   "id": "7545c737",
   "metadata": {},
   "source": [
    "<div class=\"alert alert-block alert-warning\">\n",
    "Note that the random selection model does not have any parameters to infer.\n",
    "</div>"
   ]
  },
  {
   "cell_type": "markdown",
   "id": "31bf960d",
   "metadata": {},
   "source": [
    "### Candidate model 2: Win-Stay Lose-Switch\n",
    "\n",
    "If the agent observes a success from a given arm, they choose that arm again, otherwise they switch. In addition, the agent may choose randomly at any time with a given probability."
   ]
  },
  {
   "cell_type": "markdown",
   "id": "50604517",
   "metadata": {},
   "source": [
    "<b><a href=\"https://en.wikipedia.org/wiki/Win%E2%80%93stay,_lose%E2%80%93switch\">Win-Stay-Lose-Switch</a> (Noisy variant)</b>\n",
    "\n",
    "<ul>\n",
    "    <li>Decision rule ($\\epsilon$)\n",
    "<ul>\n",
    "\\begin{equation}\n",
    "p_{\\text{choice}}(i) = \n",
    "\\begin{cases}\n",
    "1 - \\epsilon + \\epsilon / N & \\text{if } r_{t-1} = 1 \\wedge c_{t-1} = i,\\\\\n",
    "\\frac{1 - \\epsilon}{N-1} + \\epsilon / N & \\text{if } r_{t-1} = 0 \\wedge c_{t-1} \\neq i\\\\\n",
    "\\epsilon / N & \\text{otherwise.}\\\\\n",
    "\\end{cases}\n",
    "\\end{equation}\n",
    "\n",
    "where $\\epsilon \\in [0, 1]$ is a free parameter describing the probability to choose randomly instead of applying the \"Win-Stay-Lose-Switch' rule."
   ]
  },
  {
   "cell_type": "code",
   "execution_count": 6,
   "id": "91abfe6a",
   "metadata": {},
   "outputs": [],
   "source": [
    "class WSLS(GenericPlayer):\n",
    "    \"\"\"\n",
    "    Win-Stay-Lose-Switch\n",
    "    \"\"\"\n",
    "\n",
    "    param_labels = \"epsilon\",\n",
    "    fit_bounds = (0., 1),\n",
    "\n",
    "    def __init__(self, epsilon):\n",
    "        super().__init__()\n",
    "        self.epsilon = epsilon\n",
    "\n",
    "        self.c = -1\n",
    "        self.r = -1\n",
    "\n",
    "    def decision_rule(self):\n",
    "\n",
    "        if self.c == -1:\n",
    "            return np.ones(N) / N  # First turn\n",
    "\n",
    "        p = np.zeros(N)\n",
    "\n",
    "        p_apply_rule = 1 - self.epsilon # 1 - epsilon: apply the rule\n",
    "        p_random = self.epsilon / N # epsilon: pick up randomly\n",
    "        if self.r:\n",
    "            p[self.options != self.c] = p_random\n",
    "            p[self.c] = 1 - np.sum(p)  # p_apply_rule + p_random\n",
    "        else:\n",
    "            p[self.options != self.c] = p_apply_rule / (N - 1) + p_random\n",
    "            p[self.c] = 1 - np.sum(p)  # p_random\n",
    "\n",
    "        return p\n",
    "\n",
    "    def learning_rule(self, option, success):\n",
    "        self.r = success\n",
    "        self.c = option"
   ]
  },
  {
   "cell_type": "markdown",
   "id": "18062383",
   "metadata": {},
   "source": [
    "<div class=\"alert alert-block alert-warning\">\n",
    "Note that there is no learning in win-stay lose-switch, although the choice at $t$ can depend on the choice at $t-1$.\n",
    "</div>"
   ]
  },
  {
   "cell_type": "markdown",
   "id": "80d48d30",
   "metadata": {},
   "source": [
    "### Candidate model 3: Rescorla-Wagner\n",
    "\n",
    "This is the only candidate model in this notebook, where we consider learning in the following way."
   ]
  },
  {
   "cell_type": "markdown",
   "id": "79b2b448",
   "metadata": {},
   "source": [
    "<b><a href=\"https://en.wikipedia.org/wiki/Rescorla%E2%80%93Wagner_model\">Rescorla-Wagner</a></b>\n",
    "\n",
    "<ul>\n",
    "    <li>Updating rule ($\\alpha$)\n",
    "</ul>\n",
    "\n",
    "\\begin{equation}\n",
    "Q^{t+1}(i) = Q^t(i) + \\alpha [s - Q^t(i)]\n",
    "\\end{equation}\n",
    "\n",
    "where:\n",
    "\n",
    "<ul>\n",
    "    <li> $s=1$ in case of success, 0 otherwise;\n",
    "    <li> $\\alpha \\in [0, 1]$ is a free parameter describing to which extent a new success/failure will impact the $Q$-values.\n",
    "</ul>\n",
    "\n",
    "\n",
    "<ul>\n",
    "    <li>Decision rule ($\\beta$)\n",
    "</ul>\n",
    "\n",
    "\\begin{equation}\n",
    "p_{\\text{choice}}(i) = \\dfrac{e^{\\beta Q(i)}}{\\sum_{j \\in N} e^{\\beta Q(j)}} \n",
    "\\end{equation}\n",
    "\n",
    "where $\\beta \\in [0, \\infty]$ is a free parameter describing the stochasticity of the choice: the greater $\\beta$ is, the more the $Q$-values will impact the probability distribution."
   ]
  },
  {
   "cell_type": "code",
   "execution_count": 7,
   "id": "5aa9ce7d",
   "metadata": {},
   "outputs": [],
   "source": [
    "class RW(GenericPlayer):\n",
    "    \"\"\"\n",
    "    Rescorla-Wagner\n",
    "    \"\"\"\n",
    "\n",
    "    param_labels = r\"$\\alpha$\", r\"$\\beta$\",\n",
    "    fit_bounds = (0.0, 1.0), (1.0, 20.0),\n",
    "\n",
    "    def __init__(self, q_alpha, q_beta, initial_value=0.5):\n",
    "        super().__init__()\n",
    "        self.q_values = np.full(N, initial_value)\n",
    "        self.q_alpha = q_alpha\n",
    "        self.q_beta = q_beta\n",
    "\n",
    "    def decision_rule(self):\n",
    "        \n",
    "        num = np.exp(self.q_beta * self.q_values)\n",
    "        denom = np.sum(num)\n",
    "        p_soft = num / denom\n",
    "        return p_soft\n",
    "\n",
    "    def learning_rule(self, option, success):\n",
    "        err = success - self.q_values[option]\n",
    "        self.q_values[option] += self.q_alpha * err "
   ]
  },
  {
   "cell_type": "markdown",
   "id": "6943352b",
   "metadata": {},
   "source": [
    "## Forward simulation\n",
    "\n",
    "With a given model definition, it is possible to simulate agents behaving according to that model. In fact, simulating a model shows how well it can generate a given effect of interest. This is important as often we are interested in both the generative and predictive performance of a model ([Palminteri et al. 2017](https://doi.org/10.1016/j.tics.2017.03.011)). In addition, forward simulation is also used later in this notebook when performing *parameter recovery*."
   ]
  },
  {
   "cell_type": "markdown",
   "id": "7379a86f",
   "metadata": {},
   "source": [
    "<img src=\"img/forward-simulation.jpg\" width=\"800\">"
   ]
  },
  {
   "cell_type": "markdown",
   "id": "265e585e",
   "metadata": {},
   "source": [
    "First, we define a function for running a simulation. We are experimenting with the most complicated model, Rescorla-Wagner."
   ]
  },
  {
   "cell_type": "code",
   "execution_count": 8,
   "id": "82845ec1",
   "metadata": {},
   "outputs": [],
   "source": [
    "def run_simulation(model, param):\n",
    "\n",
    "    # Create the agent\n",
    "    agent = model(*param)\n",
    "\n",
    "    # Data containers\n",
    "    choices = np.zeros(T, dtype=int)\n",
    "    successes = np.zeros(T, dtype=bool)\n",
    "\n",
    "    # Simulate the task\n",
    "    for t in range(T):\n",
    "\n",
    "        # Determine choice\n",
    "        choice = agent.choose()\n",
    "\n",
    "        # Determine success\n",
    "        success = P[choice] > np.random.random()\n",
    "\n",
    "        # Make agent learn\n",
    "        agent.learning_rule(option=choice, success=success)\n",
    "\n",
    "        # Backup\n",
    "        choices[t] = choice\n",
    "        successes[t] = success\n",
    "\n",
    "    return pd.DataFrame({\n",
    "        \"time\": np.arange(T),\n",
    "        \"choice\": choices, \n",
    "        \"success\": successes})\n",
    "\n",
    "\n",
    "# Seed the pseudo-random number generator\n",
    "np.random.seed(0)\n",
    "\n",
    "# We will experiment with Rescola-Wagner\n",
    "model = RW\n",
    "\n",
    "# Get data\n",
    "param_single = np.array([0.1, 10.00])\n",
    "bhv_single = run_simulation(model=model, param=param_single)\n",
    "\n",
    "# Backup\n",
    "bhv_single.to_csv(os.path.join(BKP_FOLDER, \"bhv_single.csv\"))"
   ]
  },
  {
   "cell_type": "markdown",
   "id": "085dc62c",
   "metadata": {},
   "source": [
    "Then, let's load the data and examine the results in a tabular format."
   ]
  },
  {
   "cell_type": "code",
   "execution_count": 9,
   "id": "c21a497f",
   "metadata": {},
   "outputs": [
    {
     "data": {
      "text/html": [
       "<div>\n",
       "<style scoped>\n",
       "    .dataframe tbody tr th:only-of-type {\n",
       "        vertical-align: middle;\n",
       "    }\n",
       "\n",
       "    .dataframe tbody tr th {\n",
       "        vertical-align: top;\n",
       "    }\n",
       "\n",
       "    .dataframe thead th {\n",
       "        text-align: right;\n",
       "    }\n",
       "</style>\n",
       "<table border=\"1\" class=\"dataframe\">\n",
       "  <thead>\n",
       "    <tr style=\"text-align: right;\">\n",
       "      <th></th>\n",
       "      <th>time</th>\n",
       "      <th>choice</th>\n",
       "      <th>success</th>\n",
       "    </tr>\n",
       "  </thead>\n",
       "  <tbody>\n",
       "    <tr>\n",
       "      <th>0</th>\n",
       "      <td>0</td>\n",
       "      <td>1</td>\n",
       "      <td>True</td>\n",
       "    </tr>\n",
       "    <tr>\n",
       "      <th>1</th>\n",
       "      <td>1</td>\n",
       "      <td>1</td>\n",
       "      <td>True</td>\n",
       "    </tr>\n",
       "    <tr>\n",
       "      <th>2</th>\n",
       "      <td>2</td>\n",
       "      <td>1</td>\n",
       "      <td>True</td>\n",
       "    </tr>\n",
       "    <tr>\n",
       "      <th>3</th>\n",
       "      <td>3</td>\n",
       "      <td>1</td>\n",
       "      <td>False</td>\n",
       "    </tr>\n",
       "    <tr>\n",
       "      <th>4</th>\n",
       "      <td>4</td>\n",
       "      <td>1</td>\n",
       "      <td>True</td>\n",
       "    </tr>\n",
       "  </tbody>\n",
       "</table>\n",
       "</div>"
      ],
      "text/plain": [
       "   time  choice  success\n",
       "0     0       1     True\n",
       "1     1       1     True\n",
       "2     2       1     True\n",
       "3     3       1    False\n",
       "4     4       1     True"
      ]
     },
     "metadata": {},
     "output_type": "display_data"
    }
   ],
   "source": [
    "# Load the data\n",
    "bhv_single = pd.read_csv(os.path.join(BKP_FOLDER, \"bhv_single.csv\"), \n",
    "                         index_col=[0])\n",
    "# Print...\n",
    "display(bhv_single.head())"
   ]
  },
  {
   "cell_type": "markdown",
   "id": "7951d8cf",
   "metadata": {},
   "source": [
    "Finally, we will illustrate the results in a plot. Note that this agent tends to choose option 1 more, which is sensible as the probability of success in this arm is higher than the alternative (based on the task definition above). "
   ]
  },
  {
   "cell_type": "code",
   "execution_count": 10,
   "id": "309d36d1",
   "metadata": {},
   "outputs": [
    {
     "data": {
      "image/png": "[encoded data removed]",
      "text/plain": [
       "<Figure size 1008x216 with 1 Axes>"
      ]
     },
     "metadata": {
      "image/png": {
       "height": 207,
       "width": 822
      },
      "needs_background": "light"
     },
     "output_type": "display_data"
    }
   ],
   "source": [
    "# Create figure and axes\n",
    "fig, ax = plt.subplots(figsize=(14, 3))\n",
    "\n",
    "# Show choices and successes\n",
    "sns.swarmplot(data=bhv_single, x='time', y='choice', ax=ax, orient=\"h\", hue='success')\n",
    "\n",
    "plt.show()"
   ]
  },
  {
   "cell_type": "markdown",
   "id": "0fc317c4",
   "metadata": {},
   "source": [
    "<div class=\"alert alert-block alert-warning\">\n",
    "We should simulate behavior for all three candidate models.\n",
    "</div>"
   ]
  },
  {
   "cell_type": "markdown",
   "id": "87b3c918",
   "metadata": {},
   "source": [
    "## In class exercise: Forward simulation\n",
    "\n",
    "Behaviors should be simulated for all three candidate models. The block below contains the code used in simulations."
   ]
  },
  {
   "cell_type": "markdown",
   "id": "2e5b3a84",
   "metadata": {},
   "source": [
    "<div class=\"alert alert-block alert-info\">\n",
    "Exercise: Explain what $\\alpha$, $\\beta$ and $\\epsilon$ do in Rescorla-Wagner and win-stay lose-switch. For example, you can simulate the models with the following parameters:\n",
    "<li> Rescorla-Wagner with $\\alpha=0.10$ and $\\beta=0.9$\n",
    "<li> Win-stay Lose-Switch with $\\epsilon=0.9$\n",
    "    \n",
    "Tip: Compare the results to simulating with Random\n",
    "</div>"
   ]
  },
  {
   "cell_type": "code",
   "execution_count": 11,
   "id": "da07247b",
   "metadata": {},
   "outputs": [
    {
     "data": {
      "image/png": "[encoded data removed]",
      "text/plain": [
       "<Figure size 1008x216 with 1 Axes>"
      ]
     },
     "metadata": {
      "image/png": {
       "height": 207,
       "width": 822
      },
      "needs_background": "light"
     },
     "output_type": "display_data"
    }
   ],
   "source": [
    "# Seed the pseudo-random number generator\n",
    "np.random.seed(0)\n",
    "\n",
    "# We will experiment with Rescola-Wagner\n",
    "#model = Random\n",
    "model = RW\n",
    "#model = WSLS\n",
    "\n",
    "# Get data\n",
    "#param_single = np.array([])\n",
    "param_single = np.array([0.10, 0.9])\n",
    "#param_single = np.array([0.9])\n",
    "bhv_exercise = run_simulation(model=model, param=param_single)\n",
    "\n",
    "# Create figure and axes\n",
    "fig, ax = plt.subplots(figsize=(14, 3))\n",
    "\n",
    "# Show choices and successes\n",
    "sns.swarmplot(data=bhv_exercise, x='time', y='choice', ax=ax, orient=\"h\", hue='success')\n",
    "\n",
    "plt.show()"
   ]
  },
  {
   "cell_type": "markdown",
   "id": "2b90c9d6",
   "metadata": {},
   "source": [
    "<div class=\"alert alert-block alert-warning\">\n",
    "Hint: the class names for the candidate models were <code>RW</code>, <code>WSLS</code> and <code>Random</code>. The parameters are stored in an array containing as many elements as the model has parameters. For instance, for <code>RW</code> the parameters $\\alpha$ and $\\beta$ are stored in a two-element array <code>param_single</code>. The correct code for running different models is provided above (commented out). \n",
    "</div>"
   ]
  },
  {
   "cell_type": "markdown",
   "id": "5aeb7ef0",
   "metadata": {},
   "source": [
    "<div class=\"alert alert-block alert-danger\">\n",
    "Please only change models in the previous block for the in class exercise. Doing so elsewhere may break some of the demonstrations that follow.\n",
    "</div>"
   ]
  },
  {
   "cell_type": "markdown",
   "id": "ede3fadb",
   "metadata": {},
   "source": [
    "## Parameter inference (generated data)\n",
    "\n",
    "Two of the models considered in this notebook are parametric (win-stay lose-switch and Rescorla-Wagner). A quantitative specification of a model includes both a description (an algorithm or an equation) as well as an estimation of model parameters ([Lewandowsky and Farrell, 2010](https://www.doi.org/10.4135/9781483349428), p.109). We have described the models earlier in this notebook. This section concerns parameter estimation. We will estimate parameters using [maximum likelihood estimation](https://en.wikipedia.org/wiki/Maximum_likelihood_estimation) (MLE)."
   ]
  },
  {
   "cell_type": "markdown",
   "id": "1f7062a1",
   "metadata": {},
   "source": [
    "<img src=\"img/parameter-inference-generated.jpg\" width=\"800\">"
   ]
  },
  {
   "cell_type": "markdown",
   "id": "0bb7d718",
   "metadata": {},
   "source": [
    "### Define a likelihood function\n",
    "\n",
    "* Determine the (log) likelihood of observing some data given your model and a specific parametrization:\n",
    "\n",
    "\\begin{equation}\n",
    "\\log p(D \\mid M, \\theta) = \\sum_{d \\in D} \\log p(d \\mid M, \\theta)\n",
    "\\end{equation}\n",
    "\n",
    "*Note: For several reasons (including numerical precision on computers but also easier algebraic manipulation), it is preferable to use the log-likelihood than the likelihood.*"
   ]
  },
  {
   "cell_type": "code",
   "execution_count": 12,
   "id": "eb5c689d",
   "metadata": {},
   "outputs": [],
   "source": [
    "def log_likelihood(model, param, data):\n",
    "\n",
    "    # Create the agent\n",
    "    agent = model(*param)\n",
    "\n",
    "    # Data container\n",
    "    ll = np.zeros(T)\n",
    "\n",
    "    # Simulate the task\n",
    "    for t in range(T):\n",
    "\n",
    "        # Get choice and success for t\n",
    "        c, s = data.choice[t], data.success[t]\n",
    "\n",
    "        # Look at probability of choice\n",
    "        p_choice = agent.decision_rule()\n",
    "        p = p_choice[c]\n",
    "\n",
    "        # Compute log\n",
    "        ll[t] = np.log(p + np.finfo(float).eps)\n",
    "\n",
    "        # Make agent learn\n",
    "        agent.learning_rule(option=c, success=s)\n",
    "\n",
    "    return np.sum(ll)"
   ]
  },
  {
   "cell_type": "markdown",
   "id": "dbb0c0bf",
   "metadata": {},
   "source": [
    "<div class=\"alert alert-block alert-warning\">\n",
    "Above, we consider the log-likelihood sum (LLS). That is, consider that we have dataset $D$ that contains data from each time step $t$. At each time step $t$ choice $d$ is recorded. Thus, the following is calculated:\n",
    "\n",
    "\\begin{aligned}\n",
    "\\text{log} p(D) &= \\text{log}[p(d_1) \\times p(d_2) ... \\times p(d_t)] \\\\\n",
    "\\text{log} p(D) &= \\text{log} p(d_1) + \\text{log} p(d_2) + ... + \\text{log} p(d_t) \\\\\n",
    "\\text{log} p(D) &= \\sum \\text{log} p(d)\n",
    "\\end{aligned}\n",
    "\n",
    "This is implemented in the <code>log_likelihood</code> function above. The aim is to maximize LLS, which is equivalent to minimizing negative LLS.  \n",
    "</div>"
   ]
  },
  {
   "cell_type": "markdown",
   "id": "1d9584e7",
   "metadata": {},
   "source": [
    "### Choose a method for fitting parameters\n",
    "\n",
    "Then we define a way the optimizer decides which parameters to explore in the parameter space.\n",
    "\n",
    "*Note: Here, we will use the <a href=\"https://docs.scipy.org/doc/scipy/reference/generated/scipy.optimize.minimize.html\">function 'minimize' from the SciPy library</a>. However, there is multiple of other ways to do it.*, see for instance <a href=\"https://ipvs.informatik.uni-stuttgart.de/mlr/marc/teaching/13-Optimization/06-blackBoxOpt.pdf\">here</a> "
   ]
  },
  {
   "cell_type": "code",
   "execution_count": 13,
   "id": "17795c28",
   "metadata": {},
   "outputs": [],
   "source": [
    "def objective(param, model, data):\n",
    "    # Since we will look for the minimum, \n",
    "    # let's return -LLS instead of LLS\n",
    "    return - log_likelihood(model=model,\n",
    "                            data=data,\n",
    "                            param=param)\n",
    "\n",
    "def optimize(model, data):\n",
    "\n",
    "    # Define an init guess\n",
    "    init_guess = [(b[1] - b[0])/2 for b in model.fit_bounds]\n",
    "\n",
    "    # Run the optimizer\n",
    "    res = scipy.optimize.minimize(\n",
    "        fun=objective,\n",
    "        x0=init_guess,\n",
    "        bounds=model.fit_bounds,\n",
    "        args=(model, data))\n",
    "\n",
    "    # Make sure that the optimizer ended up with success\n",
    "    assert res.success\n",
    "\n",
    "    # Get the best param and best value from the \n",
    "    best_param = res.x\n",
    "    best_value = res.fun\n",
    "\n",
    "    return best_param, best_value"
   ]
  },
  {
   "cell_type": "markdown",
   "id": "abd10d84",
   "metadata": {},
   "source": [
    "<div class=\"alert alert-block alert-warning\">\n",
    "We are maximizing log-likelihood, which is equivalent to minimizing negative log-likelihood.\n",
    "</div>"
   ]
  },
  {
   "cell_type": "markdown",
   "id": "ad435e32",
   "metadata": {},
   "source": [
    "### Generate data and fit\n",
    "\n",
    "Let's use the data we previously generated using Rescorla-Wagner ($\\alpha=0.10$ and $\\beta=10.00$)."
   ]
  },
  {
   "cell_type": "code",
   "execution_count": 14,
   "id": "0da2a375",
   "metadata": {
    "scrolled": true
   },
   "outputs": [
    {
     "data": {
      "text/html": [
       "<div>\n",
       "<style scoped>\n",
       "    .dataframe tbody tr th:only-of-type {\n",
       "        vertical-align: middle;\n",
       "    }\n",
       "\n",
       "    .dataframe tbody tr th {\n",
       "        vertical-align: top;\n",
       "    }\n",
       "\n",
       "    .dataframe thead th {\n",
       "        text-align: right;\n",
       "    }\n",
       "</style>\n",
       "<table border=\"1\" class=\"dataframe\">\n",
       "  <thead>\n",
       "    <tr style=\"text-align: right;\">\n",
       "      <th></th>\n",
       "      <th>time</th>\n",
       "      <th>choice</th>\n",
       "      <th>success</th>\n",
       "    </tr>\n",
       "  </thead>\n",
       "  <tbody>\n",
       "    <tr>\n",
       "      <th>0</th>\n",
       "      <td>0</td>\n",
       "      <td>1</td>\n",
       "      <td>True</td>\n",
       "    </tr>\n",
       "    <tr>\n",
       "      <th>1</th>\n",
       "      <td>1</td>\n",
       "      <td>1</td>\n",
       "      <td>True</td>\n",
       "    </tr>\n",
       "    <tr>\n",
       "      <th>2</th>\n",
       "      <td>2</td>\n",
       "      <td>1</td>\n",
       "      <td>True</td>\n",
       "    </tr>\n",
       "    <tr>\n",
       "      <th>3</th>\n",
       "      <td>3</td>\n",
       "      <td>1</td>\n",
       "      <td>False</td>\n",
       "    </tr>\n",
       "    <tr>\n",
       "      <th>4</th>\n",
       "      <td>4</td>\n",
       "      <td>1</td>\n",
       "      <td>True</td>\n",
       "    </tr>\n",
       "  </tbody>\n",
       "</table>\n",
       "</div>"
      ],
      "text/plain": [
       "   time  choice  success\n",
       "0     0       1     True\n",
       "1     1       1     True\n",
       "2     2       1     True\n",
       "3     3       1    False\n",
       "4     4       1     True"
      ]
     },
     "metadata": {},
     "output_type": "display_data"
    }
   ],
   "source": [
    "# Print...\n",
    "display(bhv_single.head())"
   ]
  },
  {
   "cell_type": "markdown",
   "id": "e5fcfb59",
   "metadata": {},
   "source": [
    "Then run the optimizer. Note that the inferred values for $\\alpha$ and $\\beta$ are close to the ground truth."
   ]
  },
  {
   "cell_type": "code",
   "execution_count": 15,
   "id": "eb685bc0",
   "metadata": {},
   "outputs": [
    {
     "name": "stdout",
     "output_type": "stream",
     "text": [
      "-------------------------\n",
      "Estimates for parameters:\n",
      "-------------------------\n"
     ]
    },
    {
     "data": {
      "text/latex": [
       "$\\displaystyle \\alpha: 0.12$"
      ],
      "text/plain": [
       "<IPython.core.display.Math object>"
      ]
     },
     "metadata": {},
     "output_type": "display_data"
    },
    {
     "data": {
      "text/latex": [
       "$\\displaystyle \\beta: 10.81$"
      ],
      "text/plain": [
       "<IPython.core.display.Math object>"
      ]
     },
     "metadata": {},
     "output_type": "display_data"
    },
    {
     "name": "stdout",
     "output_type": "stream",
     "text": [
      "---------------------------------\n",
      "Corresponding log-likelihood sum:\n",
      "---------------------------------\n"
     ]
    },
    {
     "data": {
      "text/latex": [
       "$\\displaystyle 143.75$"
      ],
      "text/plain": [
       "<IPython.core.display.Math object>"
      ]
     },
     "metadata": {},
     "output_type": "display_data"
    }
   ],
   "source": [
    "# Optimize\n",
    "best_param, best_value = optimize(model=RW, data=bhv_single)\n",
    "\n",
    "# Format\n",
    "alpha_round = round(best_param[0],2)\n",
    "beta_round = round(best_param[1],2)\n",
    "lls_round = round(best_value,2)\n",
    "\n",
    "# Print...\n",
    "print (\"-------------------------\")\n",
    "print(\"Estimates for parameters:\") \n",
    "print (\"-------------------------\")\n",
    "display(Math(r\"\\alpha: {}\".format(alpha_round)))\n",
    "display(Math(r\"\\beta: {}\".format(beta_round)))\n",
    "\n",
    "print (\"---------------------------------\")\n",
    "print(\"Corresponding log-likelihood sum:\") \n",
    "print (\"---------------------------------\")\n",
    "display(Math(f\"{lls_round}\"))"
   ]
  },
  {
   "cell_type": "markdown",
   "id": "a676656f",
   "metadata": {},
   "source": [
    "### Explore parameter space\n",
    "\n",
    "In the cells below, we examine the log-likelihood sums for some parameters. The chosen parameters are generated in the cell below."
   ]
  },
  {
   "cell_type": "code",
   "execution_count": 16,
   "id": "026c65c4",
   "metadata": {
    "scrolled": true
   },
   "outputs": [
    {
     "data": {
      "text/html": [
       "<div>\n",
       "<style scoped>\n",
       "    .dataframe tbody tr th:only-of-type {\n",
       "        vertical-align: middle;\n",
       "    }\n",
       "\n",
       "    .dataframe tbody tr th {\n",
       "        vertical-align: top;\n",
       "    }\n",
       "\n",
       "    .dataframe thead th {\n",
       "        text-align: right;\n",
       "    }\n",
       "</style>\n",
       "<table border=\"1\" class=\"dataframe\">\n",
       "  <thead>\n",
       "    <tr style=\"text-align: right;\">\n",
       "      <th></th>\n",
       "      <th>$\\alpha$</th>\n",
       "      <th>$\\beta$</th>\n",
       "    </tr>\n",
       "  </thead>\n",
       "  <tbody>\n",
       "    <tr>\n",
       "      <th>0</th>\n",
       "      <td>0.0</td>\n",
       "      <td>1.000000</td>\n",
       "    </tr>\n",
       "    <tr>\n",
       "      <th>1</th>\n",
       "      <td>0.0</td>\n",
       "      <td>1.487179</td>\n",
       "    </tr>\n",
       "    <tr>\n",
       "      <th>2</th>\n",
       "      <td>0.0</td>\n",
       "      <td>1.974359</td>\n",
       "    </tr>\n",
       "    <tr>\n",
       "      <th>3</th>\n",
       "      <td>0.0</td>\n",
       "      <td>2.461538</td>\n",
       "    </tr>\n",
       "    <tr>\n",
       "      <th>4</th>\n",
       "      <td>0.0</td>\n",
       "      <td>2.948718</td>\n",
       "    </tr>\n",
       "  </tbody>\n",
       "</table>\n",
       "</div>"
      ],
      "text/plain": [
       "   $\\alpha$   $\\beta$\n",
       "0       0.0  1.000000\n",
       "1       0.0  1.487179\n",
       "2       0.0  1.974359\n",
       "3       0.0  2.461538\n",
       "4       0.0  2.948718"
      ]
     },
     "metadata": {},
     "output_type": "display_data"
    }
   ],
   "source": [
    "# Choose the model\n",
    "model = RW\n",
    "\n",
    "# Choose the grid size\n",
    "grid_size = 40\n",
    "\n",
    "# Set the values to use for each parameter\n",
    "parameter_values = np.atleast_2d([np.linspace(*b, grid_size) \n",
    "                                  for b in model.fit_bounds])\n",
    "\n",
    "# Create a grid \n",
    "grid = np.asarray(list(product(*parameter_values)))\n",
    "\n",
    "# Create a dataframe that stores it\n",
    "grid_df = pd.DataFrame(grid, columns=(r\"$\\alpha$\", r\"$\\beta$\"))\n",
    "\n",
    "# Print...\n",
    "display(grid_df.head())"
   ]
  },
  {
   "cell_type": "markdown",
   "id": "487e483c",
   "metadata": {},
   "source": [
    "The log-likelihood sums corresponding to these parameters are computed here. Note that this might take longer."
   ]
  },
  {
   "cell_type": "code",
   "execution_count": null,
   "id": "b3d7c379",
   "metadata": {
    "scrolled": true
   },
   "outputs": [
    {
     "name": "stdout",
     "output_type": "stream",
     "text": [
      "Computing data for parameter space exploration...\n",
      " 34%|█████████████▌                          | 544/1600 [00:10<00:21, 50.05it/s]"
     ]
    }
   ],
   "source": [
    "# Results container\n",
    "row_list = []\n",
    "\n",
    "print(\"Computing data for parameter space exploration...\")\n",
    "# Loop over each value of the parameter grid for both parameters\n",
    "for _, param in tqdm(grid_df.iterrows(), total=len(grid_df), file=sys.stdout):\n",
    "\n",
    "    # Compute the log likelihood\n",
    "    ll = log_likelihood(\n",
    "        data=bhv_single,  # THIS IS SPECIFIC\n",
    "        model=RW,              # THIS IS SPECIFIC\n",
    "        param=param)\n",
    "    \n",
    "    # Backup\n",
    "    row_list.append({\n",
    "        r\"$\\alpha$\": param[r\"$\\alpha$\"],\n",
    "        r\"$\\beta$\": param[r\"$\\beta$\"],\n",
    "        \"log-likelihood\": ll})\n",
    "\n",
    "# Create a dataframe\n",
    "ll_df = pd.DataFrame(row_list)\n",
    "\n",
    "# Save it for later use\n",
    "ll_df.to_csv(os.path.join(BKP_FOLDER, \"log_likelihood_grid-bhv_single.csv\"))\n",
    "\n",
    "# Print...\n",
    "display(ll_df.head())"
   ]
  },
  {
   "cell_type": "code",
   "execution_count": null,
   "id": "eef2e171",
   "metadata": {
    "scrolled": true
   },
   "outputs": [],
   "source": [
    "# Adapt the shape of the dataframe\n",
    "ll_df_pivoted = ll_df.pivot(index=r\"$\\beta$\", columns=r\"$\\alpha$\", values=\"log-likelihood\")\n",
    "\n",
    "# Print...\n",
    "display(ll_df_pivoted.head())"
   ]
  },
  {
   "cell_type": "markdown",
   "id": "4fde9cab",
   "metadata": {},
   "source": [
    "Finally, the results are plotted."
   ]
  },
  {
   "cell_type": "code",
   "execution_count": null,
   "id": "f30c0992",
   "metadata": {},
   "outputs": [],
   "source": [
    "# Create figure and axes\n",
    "generated_params = np.array([0.10, 10.00])\n",
    "fig, ax = plt.subplots(figsize=(6, 5))\n",
    "\n",
    "# Draw heatmap\n",
    "sns.heatmap(data=ll_df_pivoted, cmap=\"viridis\", ax=ax, cbar_kws={'label': 'log-likelihood'})\n",
    "\n",
    "\n",
    "# Transform the parameter values into grid coordinates\n",
    "coord_param = [(grid_size)*(p-b[0]) / (b[1]-b[0]) for p, b in zip(generated_params, model.fit_bounds)]\n",
    "# Plot the position of the 'true' parameters\n",
    "ax.scatter(*coord_param, color='red')\n",
    "\n",
    "# Invert y-axis\n",
    "ax.invert_yaxis()\n",
    "\n",
    "# Make it look square\n",
    "ax.set_aspect(1)\n",
    "\n",
    "plt.tight_layout()\n",
    "plt.show()"
   ]
  },
  {
   "cell_type": "markdown",
   "id": "41f3c736",
   "metadata": {},
   "source": [
    "Earlier, we saw that the best fit parameters were $\\alpha \\approx 0.12$ and $\\beta \\approx 10.81$. The data come from $\\alpha = 0.10$ and $\\beta = 10$ (red dot)."
   ]
  },
  {
   "cell_type": "markdown",
   "id": "4ab55d14",
   "metadata": {},
   "source": [
    "## Parameter recovery\n",
    "\n",
    "Parameter recovery is a technique using forward simulation and parameter estimation to verify whether a given model specification and parameter estimation technique produce accurate and consistent results (see, e.g., [Wilson & Collins, 2019](https://doi.org/10.7554/eLife.49547) or [Heathcote et al., 2015](https://doi.org/10.1007/978-1-4939-2236-9_2)). That is, consider data produced by a model with some parameters $\\theta$. The same model is then fitted to this generated data to obtain inferred parameters $\\hat{\\theta}$. The generating parameters $\\theta$ should be close to the inferred parameters $\\hat{\\theta}$. "
   ]
  },
  {
   "cell_type": "markdown",
   "id": "6dfa13d7",
   "metadata": {},
   "source": [
    "<div class=\"alert alert-block alert-warning\">\n",
    "We already run parameter recovery for one set of parameters in the previous section when fitting a model to generated data. Now we need to systematize the approach by generating data from various different parameter values, and then fitting a model to this data.\n",
    "</div>"
   ]
  },
  {
   "cell_type": "markdown",
   "id": "9c05af16",
   "metadata": {},
   "source": [
    "<img src=\"img/parameter-recovery.jpg\" width=\"800\">"
   ]
  },
  {
   "cell_type": "markdown",
   "id": "222b70c3",
   "metadata": {},
   "source": [
    "<div class=\"alert alert-block alert-info\">\n",
    "Inadequate parameter recovery is a warning sign in modeling. It suggests that a given model specification or parameter inference technique might not be suitable for the given modeling task. As a caveat, even though unsuccessful parameter recovery is a warning sign suggesting that the given model should not be fitted to data with the chosen inference technique, good parameter recovery does not guarantee that results are reliable. However, they can increase our confidence in the inference results.\n",
    "</div>"
   ]
  },
  {
   "cell_type": "markdown",
   "id": "7a4447e4",
   "metadata": {},
   "source": [
    "Let's run a parameter recovery simulation and observe the generating and inferred parameters."
   ]
  },
  {
   "cell_type": "code",
   "execution_count": null,
   "id": "dea2334e",
   "metadata": {},
   "outputs": [],
   "source": [
    "# Seed the pseudo-random number generator\n",
    "np.random.seed(1284)\n",
    "\n",
    "# Select one model\n",
    "model = RW\n",
    "\n",
    "# Define the number of agents to simulate\n",
    "n = 30 \n",
    "\n",
    "# Data container\n",
    "row_list = []\n",
    "\n",
    "# For each agent...\n",
    "for i in tqdm(range(n), file=sys.stdout):\n",
    "\n",
    "    # Generate parameters to simualte\n",
    "    param_to_sim = [np.random.uniform(*b)\n",
    "                    for b in model.fit_bounds]\n",
    "\n",
    "    # Simulate\n",
    "    d = run_simulation(model=model, param=param_to_sim)\n",
    "\n",
    "    # Optimize\n",
    "    best_param, best_value = optimize(model=model, data=d)\n",
    "\n",
    "    # Backup\n",
    "    for j in range(len(param_to_sim)):\n",
    "        row_list.append({\n",
    "            \"Parameter\": model.param_labels[j],\n",
    "            \"Used to simulate\": param_to_sim[j],\n",
    "            \"Recovered\": best_param[j]})\n",
    "\n",
    "# Create dataframe and save it\n",
    "df = pd.DataFrame(row_list)\n",
    "df.to_csv(os.path.join(BKP_FOLDER, \"likelihood_explo.csv\"))"
   ]
  },
  {
   "cell_type": "markdown",
   "id": "6ab4b969",
   "metadata": {},
   "source": [
    "<div class=\"alert alert-block alert-warning\">\n",
    "The loop above uses the two concepts presented earlier in this notebook: forward simulation and parameter estimation. Forward simulation is done using the function <code>run_simulation</code> and parameter estimation using <code>optimize</code>.\n",
    "</div>"
   ]
  },
  {
   "cell_type": "code",
   "execution_count": null,
   "id": "5c2f15b6",
   "metadata": {},
   "outputs": [],
   "source": [
    "# Load the dataframe and display it\n",
    "df = pd.read_csv(os.path.join(BKP_FOLDER, \"likelihood_explo.csv\"), index_col=[0])\n",
    "display(df.head())"
   ]
  },
  {
   "cell_type": "markdown",
   "id": "728f116b",
   "metadata": {},
   "source": [
    "Then let's plot the results."
   ]
  },
  {
   "cell_type": "code",
   "execution_count": null,
   "id": "68bf4928",
   "metadata": {},
   "outputs": [],
   "source": [
    "# Plot\n",
    "param_names=RW.param_labels\n",
    "param_bounds=RW.fit_bounds\n",
    "n_param = len(param_names)\n",
    "\n",
    "# Define colors\n",
    "colors = [f'C{i}' for i in range(n_param)]\n",
    "\n",
    "# Create fig and axes\n",
    "fig, axes = plt.subplots(ncols=n_param,\n",
    "                         figsize=(8, 8))\n",
    "\n",
    "for i in range(n_param):\n",
    "\n",
    "    # Select ax\n",
    "    if n_param > 1:\n",
    "        ax = axes[i]\n",
    "    else:\n",
    "        ax = axes\n",
    "    \n",
    "    # Get param name\n",
    "    p_name = param_names[i]\n",
    "    \n",
    "    # Set title\n",
    "    ax.set_title(p_name)\n",
    "\n",
    "    # Create scatter\n",
    "    sns.scatterplot(data=df[df[\"Parameter\"] == p_name], \n",
    "                    x=\"Used to simulate\", y=\"Recovered\", \n",
    "                    alpha=0.5, color=colors[i], \n",
    "                    ax=ax)\n",
    "\n",
    "    # Plot identity function\n",
    "    ax.plot(param_bounds[i], param_bounds[i], \n",
    "            linestyle=\"--\", alpha=0.5, color=\"black\", zorder=-10)\n",
    "    \n",
    "    # Set axes limits\n",
    "    ax.set_xlim(*param_bounds[i])\n",
    "    ax.set_ylim(*param_bounds[i])\n",
    "\n",
    "    # Square aspect\n",
    "    ax.set_aspect(1)\n",
    "\n",
    "plt.tight_layout()\n",
    "plt.show()"
   ]
  },
  {
   "cell_type": "markdown",
   "id": "d114158d",
   "metadata": {},
   "source": [
    "Note that if parameter recovery is adequate, the dots presented in the plots above should lie along the line of equality ($x=y$)."
   ]
  },
  {
   "cell_type": "markdown",
   "id": "61b8123c",
   "metadata": {},
   "source": [
    "<div class=\"alert alert-block alert-warning\">\n",
    "The above plots can be used to visually inspect the quality of parameter recovery. For more systematic analysis, we could calculate a metric measuring correlation between the simulated and recovered parameters (e.g., the Pearson correlation coefficient).\n",
    "</div>"
   ]
  },
  {
   "cell_type": "markdown",
   "id": "858d8265",
   "metadata": {},
   "source": [
    "<div class=\"alert alert-block alert-info\">\n",
    "Note that a similar approach as presented above can be used in assessing <i>model comparison</i>. Model comparison verifies that simulation results from one model can be distinguished from the other candidates.\n",
    "</div>"
   ]
  },
  {
   "cell_type": "markdown",
   "id": "58e4a5c9",
   "metadata": {},
   "source": [
    "<div class=\"alert alert-block alert-info\">\n",
    "Parameter recovery needs to be verified for which of the candidate models in this notebook (random selection, win-stay lose-switch and Rescorla-Wagner)?\n",
    "<br>a) All models, since parameter recovery should always be verified.\n",
    "<br>b) Win-stay lose-switch and Rescorla-Wagner.\n",
    "<br>c) Just Rescolar-Wagner.\n",
    "</div>"
   ]
  },
  {
   "cell_type": "markdown",
   "id": "c4ce2312",
   "metadata": {},
   "source": [
    "## Parameter inference (experimental data)\n",
    "\n",
    "Earlier we fitted one of our candidate models (Rescorla-Wagner) to *generated* data, where the ground truth is known. In reality, the goal is to fit a model to *experimental* data. In this case, the ground truth is mostly unknown."
   ]
  },
  {
   "cell_type": "markdown",
   "id": "a3a44d84",
   "metadata": {},
   "source": [
    "<img src=\"img/parameter-inference-experimental.jpg\" width=\"800\">"
   ]
  },
  {
   "cell_type": "markdown",
   "id": "c3ab864c",
   "metadata": {},
   "source": [
    "<div class=\"alert alert-block alert-info\">\n",
    "The data used in model fitting may not come from a controlled experiment (i.e., it can be <i>naturalistic</i>). However, in this notebook, we'll assume the data considered is experimental.\n",
    "</div>"
   ]
  },
  {
   "cell_type": "markdown",
   "id": "cc8dd1bf",
   "metadata": {},
   "source": [
    "Let's consider a case where data is collected for one individual in the bandit task presented in this notebook. We don't know which model the data comes from (or according to which model the individual behaves)."
   ]
  },
  {
   "cell_type": "code",
   "execution_count": null,
   "id": "c018d5e3",
   "metadata": {},
   "outputs": [],
   "source": [
    "# Load the data\n",
    "test_data = pd.read_csv(os.path.join(DATA_FOLDER, \"test-data.csv\"), \n",
    "                         index_col=[0])\n",
    "# Print...\n",
    "display(test_data.head())"
   ]
  },
  {
   "cell_type": "markdown",
   "id": "59ef2c4b",
   "metadata": {},
   "source": [
    "Let's assume that we assume there's a good reason why this individual behaves according to Rescorla-Wagner. Then, the best fit parameter values are obtained below:"
   ]
  },
  {
   "cell_type": "code",
   "execution_count": null,
   "id": "fc9286cf",
   "metadata": {},
   "outputs": [],
   "source": [
    "# Optimize\n",
    "best_param, best_value = optimize(model=RW, data=test_data)\n",
    "\n",
    "# Format\n",
    "alpha_round = round(best_param[0],2)\n",
    "beta_round = round(best_param[1],2)\n",
    "lls_round = round(best_value,2)\n",
    "\n",
    "# Print...\n",
    "print (\"-------------------------\")\n",
    "print(\"Estimates for parameters:\") \n",
    "print (\"-------------------------\")\n",
    "display(Math(r\"\\alpha: {}\".format(alpha_round)))\n",
    "display(Math(r\"\\beta: {}\".format(beta_round)))\n",
    "\n",
    "print (\"---------------------------------\")\n",
    "print(\"Corresponding log-likelihood sum:\") \n",
    "print (\"---------------------------------\")\n",
    "display(Math(f\"{lls_round}\"))"
   ]
  },
  {
   "cell_type": "markdown",
   "id": "023af371",
   "metadata": {},
   "source": [
    "## Model comparison\n",
    "\n",
    "Often it is not enough to just consider one model as a description of behavior underlying some data. Thus some form of model comparison needs to be introduced. In this section, one such method is introduced: model comparison using BIC scores."
   ]
  },
  {
   "cell_type": "markdown",
   "id": "3e1bc441",
   "metadata": {},
   "source": [
    "<img src=\"img/model-comparison.jpg\" width=\"800\">"
   ]
  },
  {
   "cell_type": "markdown",
   "id": "39c96539",
   "metadata": {},
   "source": [
    "Note that in this notebook, the following models are compared:\n",
    "\n",
    "* Random selection\n",
    "* Win-Stay-Lose-Switch\n",
    "* Rescola-Wagner"
   ]
  },
  {
   "cell_type": "code",
   "execution_count": null,
   "id": "2971877e",
   "metadata": {},
   "outputs": [],
   "source": [
    "models = Random, WSLS, RW"
   ]
  },
  {
   "cell_type": "markdown",
   "id": "44b47935",
   "metadata": {},
   "source": [
    "* Then choose a metric to compare your models. Here, we will use the Bayesian Information Criterion (BIC):\n",
    "\\begin{equation}\n",
    "\\text{BIC} = - 2 \\log p(D\\mid {\\widehat {\\theta }},M) + k \\log(T)\n",
    "\\end{equation}\n",
    "with $D$ the series of observations, $\\widehat {\\theta }$ the best-fit parameter values, $M$ the model under consideration, $k$, the number of free parameters of the model $M$, $T$ the total number of observations."
   ]
  },
  {
   "cell_type": "markdown",
   "id": "7c2e3e10",
   "metadata": {},
   "source": [
    "<div class=\"alert alert-block alert-warning\">\n",
    "Note that a lower BIC score is better.\n",
    "</div>"
   ]
  },
  {
   "cell_type": "markdown",
   "id": "3126860c",
   "metadata": {},
   "source": [
    "Calculation of the BIC score in Python is defined below."
   ]
  },
  {
   "cell_type": "code",
   "execution_count": null,
   "id": "15825d70",
   "metadata": {},
   "outputs": [],
   "source": [
    "def bic(ll, k, n_iteration):\n",
    "    return -2 * ll + k * np.log(n_iteration)"
   ]
  },
  {
   "cell_type": "markdown",
   "id": "8d610696",
   "metadata": {},
   "source": [
    "Then let's compare the models for our example dataset. Now we drop the assumption that the individual certainly behaves according to Rescorla-Wagner."
   ]
  },
  {
   "cell_type": "code",
   "execution_count": null,
   "id": "91f19a29",
   "metadata": {},
   "outputs": [],
   "source": [
    "# Load the data\n",
    "test_data = pd.read_csv(os.path.join(DATA_FOLDER, \"test-data.csv\"), \n",
    "                         index_col=[0])\n",
    "# Print...\n",
    "display(test_data.head())"
   ]
  },
  {
   "cell_type": "code",
   "execution_count": null,
   "id": "558db395",
   "metadata": {},
   "outputs": [],
   "source": [
    "# Compute bic scores for evey model for our initial set of data\n",
    "row_list = []\n",
    "\n",
    "# For each model\n",
    "for m in tqdm(models, file=sys.stdout):\n",
    "    \n",
    "    # Specific case for the random model\n",
    "    if m == Random:\n",
    "        # There is no best param (non parametric model)\n",
    "        best_param = []\n",
    "        # Get log-likelihood for best param\n",
    "        ll = log_likelihood(data=d, param=[], model=Random)\n",
    "    \n",
    "    else:\n",
    "        # Optmize\n",
    "        best_param, best_value = optimize(data=bhv_single, model=m)\n",
    "\n",
    "        # Get log-likelihood for best param\n",
    "        ll = -best_value\n",
    "\n",
    "    # Compute the BIC score\n",
    "    bs = bic(ll, k=len(m.fit_bounds), n_iteration=T)\n",
    "\n",
    "    # Backup\n",
    "    row_list.append({\n",
    "        \"model\": m.__name__,\n",
    "        \"log-likelihood\": ll,\n",
    "        \"bic\": bs,\n",
    "        \"best-param\": best_param})\n",
    "\n",
    "# Create dataframe\n",
    "comp_single = pd.DataFrame(row_list)\n",
    "\n",
    "# Print...\n",
    "display(comp_single)"
   ]
  },
  {
   "cell_type": "markdown",
   "id": "3cf3249c",
   "metadata": {},
   "source": [
    "We observe that Rescorla-Wagner seems to be the best description of this data, as per our initial hypothesis."
   ]
  },
  {
   "cell_type": "markdown",
   "id": "fdd09c71",
   "metadata": {},
   "source": [
    "<div class=\"alert alert-block alert-info\">\n",
    "What could you do with the parameter values inferred above (hint: we introduced some ideas in the beginning of the notebook)?\n",
    "</div>"
   ]
  },
  {
   "cell_type": "markdown",
   "id": "70e88a0e",
   "metadata": {},
   "source": [
    "# Summary"
   ]
  },
  {
   "cell_type": "markdown",
   "id": "75d3abe5",
   "metadata": {},
   "source": [
    "In this notebook, we have focused on three goals:\n",
    "\n",
    "1. Explaining what computational modeling of behavioral data is and naming some features of a good computational model.\n",
    "2. Understanding why a systematic workflow should be applied in computational modeling.\n",
    "3. Worked through a modeling problem using a simple workflow.\n",
    "\n",
    "Specifically, we looked at a multi-armed bandit problem using three candidate models: 1) random selection, 2) win-stay lose-switch and 3) Rescorla-Wagner. We implemented forward simulation, parameter inference, parameter recovery and model comparison as a simple computational modeling workflow. We examined results for one individual."
   ]
  },
  {
   "cell_type": "markdown",
   "id": "f456c438",
   "metadata": {},
   "source": [
    "<img src=\"img/simple-modeling-workflow.jpg\" width=\"800\">"
   ]
  },
  {
   "cell_type": "markdown",
   "id": "130c7976",
   "metadata": {},
   "source": [
    "# Advanced topics"
   ]
  },
  {
   "cell_type": "markdown",
   "id": "1fd73c97",
   "metadata": {},
   "source": [
    "## Group level analysis\n",
    "\n",
    "In the previous sections, the concepts relevant for the simple computational modeling workflow were explained simulating and using data for one agent. Often we are interested in the behavior of more than one individual. In this section, we explore the modeling workflow presented above for a group. Note that even when considering the whole group, we still model each agent as an individual (as opposed to considering the population as one \"representative-agent\"). This is a sensible assumption as it is likely that individuals exhibit some differences in behavior."
   ]
  },
  {
   "cell_type": "markdown",
   "id": "53fe2109",
   "metadata": {},
   "source": [
    "### Generate data for a group"
   ]
  },
  {
   "cell_type": "markdown",
   "id": "7d111999",
   "metadata": {},
   "source": [
    "First, we'll define a function for simulating a group of agents behaving according to a given model."
   ]
  },
  {
   "cell_type": "code",
   "execution_count": null,
   "id": "95c9b41a",
   "metadata": {},
   "outputs": [],
   "source": [
    "def run_sim_pop(model, param):\n",
    "\n",
    "    # Data container (will contain one dataframe for each subject)\n",
    "    frames = []\n",
    "\n",
    "    for i, pr in tqdm(enumerate(param), total=len(param), file=sys.stdout):\n",
    "\n",
    "        # Get choices and successes\n",
    "        d = run_simulation(model=model, param=pr)\n",
    "        \n",
    "        # Add a 'id' column to identify each subject\n",
    "        d[\"id\"] = i\n",
    "        \n",
    "        # Backup\n",
    "        frames.append(d)\n",
    "    \n",
    "    # Return a unique dataframe\n",
    "    return pd.concat(frames)"
   ]
  },
  {
   "cell_type": "markdown",
   "id": "1f2e783d",
   "metadata": {},
   "source": [
    "Then, we'll generate the parameters we would like to model. "
   ]
  },
  {
   "cell_type": "code",
   "execution_count": null,
   "id": "22ba7fee",
   "metadata": {},
   "outputs": [],
   "source": [
    "# Seed the pseudo-random number generator\n",
    "np.random.seed(0)\n",
    "\n",
    "# Set the number of subjects and model to use\n",
    "n = 10\n",
    "model = RW\n",
    "\n",
    "# Generate parameters\n",
    "param_pop = np.array([np.random.uniform(*b, size=n) for b in model.fit_bounds]).T\n",
    "print(param_pop)"
   ]
  },
  {
   "cell_type": "markdown",
   "id": "dc0d9f4f",
   "metadata": {},
   "source": [
    "Finally, we'll generate data for the group."
   ]
  },
  {
   "cell_type": "code",
   "execution_count": null,
   "id": "9a7e0d17",
   "metadata": {},
   "outputs": [],
   "source": [
    "# Get the behavioral data\n",
    "bhv_pop = run_sim_pop(model=model, param=param_pop)\n",
    "\n",
    "# Save it for later use\n",
    "bhv_pop.to_csv(os.path.join(BKP_FOLDER, \"bhv_pop.csv\"))\n",
    "\n",
    "# Print...\n",
    "display(bhv_pop.head())"
   ]
  },
  {
   "cell_type": "markdown",
   "id": "3298a126",
   "metadata": {},
   "source": [
    "### Visualize simulated data"
   ]
  },
  {
   "cell_type": "markdown",
   "id": "c3695ad3",
   "metadata": {},
   "source": [
    "Like with an individual agent, let's first simulate the behavior of the group."
   ]
  },
  {
   "cell_type": "code",
   "execution_count": null,
   "id": "f0c09923",
   "metadata": {},
   "outputs": [],
   "source": [
    "# Plot\n",
    "fig, ax = plt.subplots(figsize=(14, 5))\n",
    "\n",
    "# Plot the choices\n",
    "rep_choice = bhv_pop.groupby(['time', 'choice']).size().to_frame('n').reset_index()\n",
    "sns.lineplot(data=rep_choice, x=\"time\", y=\"n\", hue=\"choice\", ax=ax)\n",
    "\n",
    "plt.tight_layout()\n",
    "plt.show()"
   ]
  },
  {
   "cell_type": "markdown",
   "id": "b3afb953",
   "metadata": {},
   "source": [
    "### Compare candidate models for the group"
   ]
  },
  {
   "cell_type": "markdown",
   "id": "ad9883f6",
   "metadata": {},
   "source": [
    "Then let's inspect which model best explains behavior in the group. First, calculate the best fit parameters for each agent."
   ]
  },
  {
   "cell_type": "code",
   "execution_count": null,
   "id": "6a668d74",
   "metadata": {},
   "outputs": [],
   "source": [
    "# Create a list \n",
    "row_list = []\n",
    "\n",
    "# Loop over subjects\n",
    "for id_, bhv in tqdm(bhv_pop.groupby(\"id\"), file=sys.stdout):\n",
    "\n",
    "    # For each model we wish to compare\n",
    "    for m in models:\n",
    "        \n",
    "        # Specific case for the random model\n",
    "        if m == Random:\n",
    "            # There is no best param (non parametric model)\n",
    "            best_param = []\n",
    "            # Get log-likelihood for best param\n",
    "            ll = log_likelihood(data=d, param=[], model=Random)\n",
    "        else:\n",
    "            # Optmize\n",
    "            best_param, best_value = optimize(data=bhv, model=m)\n",
    "\n",
    "            # Get log-likelihood for best param\n",
    "            ll = -best_value\n",
    "\n",
    "        # Compute the bit score\n",
    "        bs = bic(ll, k=len(m.fit_bounds), n_iteration=T)\n",
    "        \n",
    "        # Add to the row list\n",
    "        row_list.append({\n",
    "            \"id\": id_,\n",
    "            \"BIC\": bs,\n",
    "            \"LLS\": ll,\n",
    "            \"model\": m.__name__,\n",
    "            \"best-param\": list(best_param)})\n",
    "\n",
    "# Create dataframe and save it\n",
    "model_comp = pd.DataFrame(row_list)\n",
    "model_comp.to_csv(os.path.join(BKP_FOLDER, \"model_comp.csv\"))"
   ]
  },
  {
   "cell_type": "code",
   "execution_count": null,
   "id": "c6faa370",
   "metadata": {},
   "outputs": [],
   "source": [
    "# Load the results\n",
    "model_comp = pd.read_csv(os.path.join(BKP_FOLDER, \"model_comp.csv\"), \n",
    "                         converters={'best-param': eval},\n",
    "                         index_col=[0])\n",
    "# Print...\n",
    "display(model_comp)"
   ]
  },
  {
   "cell_type": "markdown",
   "id": "22b48977",
   "metadata": {},
   "source": [
    "<div class=\"alert alert-block alert-info\">\n",
    "Note that we infer parameters for each agent in the group individually, as opposed to aggregating the data and considering that one set of parameters describes the whole group.\n",
    "</div>"
   ]
  },
  {
   "cell_type": "markdown",
   "id": "307cfa40",
   "metadata": {},
   "source": [
    "### Visualize results\n",
    "\n",
    "Finally, let's visualize the model comparison results for the group of agents."
   ]
  },
  {
   "cell_type": "code",
   "execution_count": null,
   "id": "6fc6fb12",
   "metadata": {},
   "outputs": [],
   "source": [
    "# Create figure and axis\n",
    "fig, ax = plt.subplots(nrows=2,figsize=(8, 10))\n",
    "\n",
    "for index, metric in enumerate(['BIC', 'LLS']):\n",
    "\n",
    "    # Create the boxplots\n",
    "    sns.boxplot(data=model_comp, x=\"model\", y=metric, ax=ax[index])\n",
    "\n",
    "    # Add the individual data points\n",
    "    sns.stripplot(data=model_comp, x=\"model\", y=metric, ax=ax[index], color=\".25\", alpha=0.5)\n",
    "\n",
    "plt.show()"
   ]
  },
  {
   "cell_type": "markdown",
   "id": "c48d4491",
   "metadata": {},
   "source": [
    "Note that again, the results above reflect the fact that the data was generated from Rescorla-Wagner."
   ]
  },
  {
   "cell_type": "markdown",
   "id": "de1788b2",
   "metadata": {},
   "source": [
    "<div class=\"alert alert-block alert-info\">\n",
    "Why is parameter recovery not considered in the group level analysis above?\n",
    "</div>"
   ]
  },
  {
   "cell_type": "markdown",
   "id": "27550b52",
   "metadata": {},
   "source": [
    "## Bayesian inference\n",
    "\n",
    "This notebook uses MLE to obtain point estimates of the parameters of interest. Instead, [Bayesian inference](https://en.wikipedia.org/wiki/Bayesian_inference) could be used to obtain posterior probabilities for these parameters. Some benefits of using Bayesian inference include the possibility to take advantage of prior knowledge and quantifying confidence in the parameter of interest $\\theta$ being contained in a specific interval (see e.g., [Wagenmakers et al](https://doi.org/10.3758/s13423-017-1343-3])). There is plenty of material available online about the basics of Bayesian inference (e.g., [here](http://www.stat.columbia.edu/~gelman/book/)). Some probabilistic programming libraries for Python include [Pyro](https://pyro.ai), [PyMC3](https://docs.pymc.io/en/v3/) and [PyStan](https://mc-stan.org/users/interfaces/pystan). Further, [Gelman et al. (2020)](https://arxiv.org/abs/2011.01808) propose a specific Bayesian workflow, which also touches upon some of the concepts introduced in this notebook."
   ]
  },
  {
   "cell_type": "markdown",
   "id": "a3ff95d2",
   "metadata": {},
   "source": [
    "## Other model checks\n",
    "\n",
    "We have only considered a few possible computational modeling workflow steps. Additional possible steps include:\n",
    "\n",
    "- Model recovery\n",
    "- Posterior predictive checks\n",
    "- Cross validation\n",
    "\n",
    "... and more, depending on the chosen inference technique and models.\n",
    "\n",
    "A more comprehensive account of the techniques introduced in this lecture, and more, is available in previous year's lecture materials by Aurélien Nioche (available [here](https://github.com/AurelienNioche/LectureUserResearch/blob/master/OLD_lecture10.ipynb) and in [Wilson & Collins, 2019](https://doi.org/10.7554/eLife.49547))."
   ]
  },
  {
   "cell_type": "markdown",
   "id": "3f63c3dc",
   "metadata": {},
   "source": [
    "# References"
   ]
  },
  {
   "cell_type": "markdown",
   "id": "087aa687",
   "metadata": {},
   "source": [
    "A. Acharya, X. Chen, Christopher W. Myers, R. L. Lewis, and Andrew Howes. 2017. Human Visual Search as a Deep Reinforcement Learning Solution to a POMDP. (2017).\n",
    "\n",
    "Andrea Barraza-Urbina and Dorota Glowacka. 2020. Introduction to Bandits in Recommender Systems. In <i>Fourteenth ACM Conference on Recommender Systems</i> (<i>RecSys '20</i>). Association for Computing Machinery, New York, NY, USA, 748–750. DOI:https://doi.org/10.1145/3383313.3411547\n",
    "\n",
    "N. J. Butko and J. R. Movellan, \"I-POMDP: An infomax model of eye movement,\" 2008 7th IEEE International Conference on Development and Learning, 2008, pp. 139-144, https://doi.org/10.1109/DEVLRN.2008.4640819.\n",
    "\n",
    "Xiuli Chen, Gilles Bailly, Duncan P. Brumby, Antti Oulasvirta, and Andrew Howes. 2015. The Emergence of Interactive Behavior: A Model of Rational Menu Search. In <i>Proceedings of the 33rd Annual ACM Conference on Human Factors in Computing Systems</i> (<i>CHI '15</i>). Association for Computing Machinery, New York, NY, USA, 4217–4226. DOI:https://doi.org/10.1145/2702123.2702483\n",
    "\n",
    "Clement, Benjamin, Roy, Didier, Oudeyer, Pierre-Yves, & Lopes, Manuel. (2015). Multi-Armed Bandits for Intelligent Tutoring Systems. Journal of Educational Data Mining, 7(2), 20–48. https://doi.org/10.5281/zenodo.3554668\n",
    "\n",
    "Andrew Gelman, Aki Vehtari, Daniel Simpson, Charles C. Margossian, Bob Carpenter, Yuling Yao, Lauren Kennedy, Jonah Gabry, Paul-Christian Bürkner, & Martin Modrák. (2020). Bayesian Workflow. \n",
    "\n",
    "Heathcote A., Brown S., Wagenmakers EJ. (2015) An Introduction to Good Practices in Cognitive Modeling. In: Forstmann B., Wagenmakers EJ. (eds) An Introduction to Model-Based Cognitive Neuroscience. Springer, New York, NY. https://doi.org/10.1007/978-1-4939-2236-9_2\n",
    "\n",
    "Hoppe, D., Rothkopf, C.A. Multi-step planning of eye movements in visual search. Sci Rep 9, 144 (2019). https://doi.org/10.1038/s41598-018-37536-0\n",
    "\n",
    "Anthony J. Hornof and David E. Kieras. 1997. Cognitive modeling reveals menu search in both random and systematic. In <i>Proceedings of the ACM SIGCHI Conference on Human factors in computing systems</i> (<i>CHI '97</i>). Association for Computing Machinery, New York, NY, USA, 107–114. DOI:https://doi.org/10.1145/258549.258621\n",
    "\n",
    "Jokinen, J. P. P., Kujala, T., & Oulasvirta, A. (2020). Multitasking in Driving as Optimal Adaptation Under Uncertainty. Human Factors. https://doi.org/10.1177/0018720820927687\n",
    "\n",
    "Kangasrääsiö, A., Jokinen, J. P. P., Oulasvirta, A., Howes, A., & Kaski, S. (2019). Parameter inference for computational cognitive models with approximate bayesian computation. Cognitive Science, 43(6). https://doi.org/10.1111/cogs.12738\n",
    "\n",
    "Lewandowsky, S., & Farrell, S. (2011). Computational modeling in cognition: Principles and practice. SAGE Publications, Inc., https://www.doi.org/10.4135/9781483349428\n",
    "\n",
    "Jiri Najemnik and Wilson S. Geisler. 2005. Optimal eye movement strategies in visual search. Nature 434, 7031 (March 2005), 387–391. https://doi.org/10.1038/nature03390\n",
    "\n",
    "Aurelien Nioche, Pierre-Alexandre Murena, Carlos de la Torre-Ortiz, and Antti Oulasvirta. 2021. Improving Artificial Teachers by Considering How People Learn and Forget. In <i>26th International Conference on Intelligent User Interfaces</i> (<i>IUI '21</i>). Association for Computing Machinery, New York, NY, USA, 445–453. https://doi.org/10.1145/3397481.3450696\n",
    "\n",
    "A. Oulasvirta, N. R. Dayama, M. Shiripour, M. John and A. Karrenbauer, \"Combinatorial Optimization of Graphical User Interface Designs,\" in Proceedings of the IEEE, vol. 108, no. 3, pp. 434-464, March 2020, https://doi.org/10.1109/JPROC.2020.2969687.\n",
    "\n",
    "Palminteri, S., Wyart, V., & Koechlin, E. (2017). The importance of falsification in computational cognitive modeling. Trends in Cognitive Sciences, 21(6), 425–433. https://doi.org/10.1016/j.tics.2017.03.011\n",
    "\n",
    "Wagenmakers, EJ., Marsman, M., Jamil, T. et al. Bayesian inference for psychology. Part I: Theoretical advantages and practical ramifications. Psychon Bull Rev 25, 35–57 (2018). https://doi.org/10.3758/s13423-017-1343-3\n",
    "\n",
    "Wilson RC, Collins AG. Ten simple rules for the computational modeling of behavioral data. Elife. 2019 Nov 26;8:e49547. https://doi.org/10.7554/eLife.49547. PMID: 31769410; PMCID: PMC6879303."
   ]
  },
  {
   "cell_type": "code",
   "execution_count": null,
   "id": "b6cdeb96",
   "metadata": {},
   "outputs": [],
   "source": []
  }
 ],
 "metadata": {
  "kernelspec": {
   "display_name": "Python 3 (ipykernel)",
   "language": "python",
   "name": "python3"
  },
  "language_info": {
   "codemirror_mode": {
    "name": "ipython",
    "version": 3
   },
   "file_extension": ".py",
   "mimetype": "text/x-python",
   "name": "python",
   "nbconvert_exporter": "python",
   "pygments_lexer": "ipython3",
   "version": "3.7.3"
  },
  "toc": {
   "base_numbering": 1,
   "nav_menu": {},
   "number_sections": true,
   "sideBar": true,
   "skip_h1_title": false,
   "title_cell": "Table of Contents",
   "title_sidebar": "Contents",
   "toc_cell": false,
   "toc_position": {},
   "toc_section_display": true,
   "toc_window_display": false
  }
 },
 "nbformat": 4,
 "nbformat_minor": 5
}
