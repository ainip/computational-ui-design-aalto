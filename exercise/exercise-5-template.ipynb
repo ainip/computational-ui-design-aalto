{
 "cells": [
  {
   "cell_type": "markdown",
   "id": "b7d20a23",
   "metadata": {},
   "source": [
    "<p style=\"font-size:20px\">ELEC-E7851 - Computational User Interface Design<br></p>\n",
    "<p style=\"font-size:30px\"><b>Exercise 5 - Computational Modeling Workflow (5p)</b></p>"
   ]
  },
  {
   "cell_type": "markdown",
   "id": "e158041b",
   "metadata": {},
   "source": [
    "The number of points for this exercise is 5, but you can obtain bonus points in the last exercise. There are **two exercises** included in this sheet. Note that each exercise has **three sub-parts**. This notebook is structured as follows:"
   ]
  },
  {
   "cell_type": "markdown",
   "id": "61c2db58",
   "metadata": {},
   "source": [
    "* Python setup\n",
    "* Preparation: define functions\n",
    "    * Model definitions\n",
    "    * Forward simulation\n",
    "    * Parameter recovery\n",
    "    * Model comparison\n",
    "* Exercise 1: Parameter recovery (2p)\n",
    "* Exercise 2: Model comparison (3p+BONUS)"
   ]
  },
  {
   "cell_type": "markdown",
   "id": "61d29d8d",
   "metadata": {},
   "source": [
    "<div class=\"alert alert-block alert-danger\">\n",
    "Note that the exercise descriptions are provided <b>towards the end of this notebook</b>, as we provide some functions you may find useful in completing the exercises.\n",
    "</div>"
   ]
  },
  {
   "cell_type": "markdown",
   "id": "eca47114",
   "metadata": {},
   "source": [
    "<div class=\"alert alert-block alert-info\">\n",
    "Additionally, remember the following guidelines:\n",
    "\n",
    "<b>Reminder:</b> All assignments on this course are to be done on an individual basis. \n",
    "\n",
    "<b>Submission:</b> Submit as separate files: 1) Your report in PDF format and 2) your notebook in .ipynb format. Note that the .ipynb is not sufficient alone - even if you have documented it. We mainly  use the PDF for grading and .ipynb for quality assurance.\n",
    "\n",
    "<b>Deadline</b> is given in MyCourses. Please observe it.\n",
    "</div>"
   ]
  },
  {
   "cell_type": "markdown",
   "id": "86fbce0b",
   "metadata": {},
   "source": [
    "<h2><a class=\"tocSkip\"></a>Python setup</h2>"
   ]
  },
  {
   "cell_type": "code",
   "execution_count": 6,
   "id": "8cf77ef0",
   "metadata": {},
   "outputs": [],
   "source": [
    "import pandas as pd\n",
    "import numpy as np\n",
    "import os\n",
    "import matplotlib.pyplot as plt\n",
    "import seaborn as sns\n",
    "from tqdm import tqdm\n",
    "import sys\n",
    "import scipy\n",
    "from itertools import product\n",
    "import pandas as pd\n",
    "\n",
    "from IPython.display import display, Math\n",
    "%config InlineBackend.figure_format='retina'"
   ]
  },
  {
   "cell_type": "code",
   "execution_count": 7,
   "id": "dfed4acc",
   "metadata": {},
   "outputs": [],
   "source": [
    "# Define a folder for the bkp\n",
    "BKP_FOLDER = \"bkp\"\n",
    "DATA_FOLDER = \"data\"\n",
    "\n",
    "# Create this folder if it doesn't exist\n",
    "os.makedirs(BKP_FOLDER, exist_ok=True)"
   ]
  },
  {
   "cell_type": "markdown",
   "id": "3db70e9a",
   "metadata": {},
   "source": [
    "<h2><a class=\"tocSkip\"></a>Preparation: define functions</h2>"
   ]
  },
  {
   "cell_type": "markdown",
   "id": "70f04b40",
   "metadata": {},
   "source": [
    "While completing the exercise, you can use function definitions from the lecture. Some of these are included below. Note that model comparison is not included as it will be implemented as a part of the last exercise."
   ]
  },
  {
   "cell_type": "markdown",
   "id": "1cf77601",
   "metadata": {},
   "source": [
    "<h3><a class=\"tocSkip\"></a>&nbsp;Model definitions</h3>"
   ]
  },
  {
   "cell_type": "code",
   "execution_count": 140,
   "id": "ca0ff1d2",
   "metadata": {},
   "outputs": [],
   "source": [
    "class GenericPlayer:\n",
    "    \n",
    "    \"\"\"\n",
    "    Generic Player\n",
    "    \"\"\"\n",
    "    \n",
    "    param_labels = ()\n",
    "    fit_bounds = ()\n",
    "\n",
    "    def __init__(self):\n",
    "        self.options = np.arange(N)\n",
    "        \n",
    "    def decision_rule(self):\n",
    "        raise NotImplementedError\n",
    "\n",
    "    def learning_rule(self, option, success):\n",
    "        raise NotImplementedError\n",
    "        \n",
    "    def choose(self):\n",
    "        p = self.decision_rule()\n",
    "        return np.random.choice(self.options, p=p)"
   ]
  },
  {
   "cell_type": "code",
   "execution_count": 76,
   "id": "52660a1b",
   "metadata": {},
   "outputs": [],
   "source": [
    "class Random(GenericPlayer):\n",
    "    \n",
    "    \"\"\"\n",
    "    Random selection\n",
    "    \"\"\"\n",
    "\n",
    "    def __init__(self):\n",
    "        super().__init__()\n",
    "\n",
    "    def decision_rule(self):\n",
    "        return np.ones(N) / N\n",
    "    \n",
    "    def learning_rule(self, option, success):\n",
    "        pass"
   ]
  },
  {
   "cell_type": "code",
   "execution_count": 77,
   "id": "442991a4",
   "metadata": {},
   "outputs": [],
   "source": [
    "class WSLS(GenericPlayer):\n",
    "    \"\"\"\n",
    "    Win-Stay-Lose-Switch\n",
    "    \"\"\"\n",
    "\n",
    "    param_labels = \"epsilon\",\n",
    "    fit_bounds = (0., 1),\n",
    "\n",
    "    def __init__(self, epsilon):\n",
    "        super().__init__()\n",
    "        self.epsilon = epsilon\n",
    "\n",
    "        self.c = -1\n",
    "        self.r = -1\n",
    "\n",
    "    def decision_rule(self):\n",
    "\n",
    "        if self.c == -1:\n",
    "            return np.ones(N) / N  # First turn\n",
    "\n",
    "        p = np.zeros(N)\n",
    "\n",
    "        p_apply_rule = 1 - self.epsilon # 1 - epsilon: apply the rule\n",
    "        p_random = self.epsilon / N # epsilon: pick up randomly\n",
    "        if self.r:\n",
    "            p[self.options != self.c] = p_random\n",
    "            p[self.c] = 1 - np.sum(p)  # p_apply_rule + p_random\n",
    "        else:\n",
    "            p[self.options != self.c] = p_apply_rule / (N - 1) + p_random\n",
    "            p[self.c] = 1 - np.sum(p)  # p_random\n",
    "\n",
    "        return p\n",
    "\n",
    "    def learning_rule(self, option, success):\n",
    "        self.r = success\n",
    "        self.c = option"
   ]
  },
  {
   "cell_type": "code",
   "execution_count": 78,
   "id": "e1d6b820",
   "metadata": {},
   "outputs": [],
   "source": [
    "class RW(GenericPlayer):\n",
    "    \"\"\"\n",
    "    Rescorla-Wagner\n",
    "    \"\"\"\n",
    "\n",
    "    param_labels = r\"$\\alpha$\", r\"$\\beta$\",\n",
    "    fit_bounds = (0.0, 1.0), (1.0, 20.0),\n",
    "\n",
    "    def __init__(self, q_alpha, q_beta, initial_value=0.5):\n",
    "        super().__init__()\n",
    "        self.q_values = np.full(N, initial_value)\n",
    "        self.q_alpha = q_alpha\n",
    "        self.q_beta = q_beta\n",
    "\n",
    "    def decision_rule(self):\n",
    "        \n",
    "        num = np.exp(self.q_beta * self.q_values)\n",
    "        denom = np.sum(num)\n",
    "        p_soft = num / denom\n",
    "        return p_soft\n",
    "\n",
    "    def learning_rule(self, option, success):\n",
    "        err = success - self.q_values[option]\n",
    "        self.q_values[option] += self.q_alpha * err "
   ]
  },
  {
   "cell_type": "markdown",
   "id": "3ca818d7",
   "metadata": {},
   "source": [
    "<h3><a class=\"tocSkip\"></a>&nbsp;Forward simulation</h3>"
   ]
  },
  {
   "cell_type": "code",
   "execution_count": 141,
   "id": "3895fd71",
   "metadata": {},
   "outputs": [],
   "source": [
    "def run_simulation(model, param):\n",
    "\n",
    "    # Create the agent\n",
    "    agent = model(*param)\n",
    "\n",
    "    # Data containers\n",
    "    choices = np.zeros(T, dtype=int)\n",
    "    successes = np.zeros(T, dtype=bool)\n",
    "\n",
    "    # Simulate the task\n",
    "    for t in range(T):\n",
    "\n",
    "        # Determine choice\n",
    "        choice = agent.choose()\n",
    "\n",
    "        # Determine success\n",
    "        success = P[choice] > np.random.random()\n",
    "\n",
    "        # Make agent learn\n",
    "        agent.learning_rule(option=choice, success=success)\n",
    "\n",
    "        # Backup\n",
    "        choices[t] = choice\n",
    "        successes[t] = success\n",
    "\n",
    "    return pd.DataFrame({\n",
    "        \"time\": np.arange(T),\n",
    "        \"choice\": choices, \n",
    "        \"success\": successes})"
   ]
  },
  {
   "cell_type": "markdown",
   "id": "f2eacbd3",
   "metadata": {},
   "source": [
    "<h3><a class=\"tocSkip\"></a>&nbsp;Parameter inference</h3>"
   ]
  },
  {
   "cell_type": "code",
   "execution_count": 131,
   "id": "75b7fab8",
   "metadata": {},
   "outputs": [],
   "source": [
    "def log_likelihood(model, param, data):\n",
    "\n",
    "    # Create the agent\n",
    "    agent = model(*param)\n",
    "\n",
    "    # Data container\n",
    "    ll = np.zeros(T)\n",
    "\n",
    "    # Simulate the task\n",
    "    for t in range(T):\n",
    "\n",
    "        # Get choice and success for t\n",
    "        c, s = data.choice[t], data.success[t]\n",
    "\n",
    "        # Look at probability of choice\n",
    "        p_choice = agent.decision_rule()\n",
    "        p = p_choice[c]\n",
    "\n",
    "        # Compute log\n",
    "        ll[t] = np.log(p + np.finfo(float).eps)\n",
    "\n",
    "        # Make agent learn\n",
    "        agent.learning_rule(option=c, success=s)\n",
    "\n",
    "    return np.sum(ll)"
   ]
  },
  {
   "cell_type": "code",
   "execution_count": 132,
   "id": "11d4e7b8",
   "metadata": {},
   "outputs": [],
   "source": [
    "def objective(param, model, data):\n",
    "    # Since we will look for the minimum, \n",
    "    # let's return -LLS instead of LLS\n",
    "    return - log_likelihood(model=model,\n",
    "                            data=data,\n",
    "                            param=param)\n",
    "\n",
    "def optimize(model, data):\n",
    "\n",
    "    # Define an init guess\n",
    "    init_guess = [(b[1] - b[0])/2 for b in model.fit_bounds]\n",
    "\n",
    "    # Run the optimizer\n",
    "    res = scipy.optimize.minimize(\n",
    "        fun=objective,\n",
    "        x0=init_guess,\n",
    "        bounds=model.fit_bounds,\n",
    "        args=(model, data))\n",
    "\n",
    "    # Make sure that the optimizer ended up with success\n",
    "    assert res.success\n",
    "\n",
    "    # Get the best param and best value from the \n",
    "    best_param = res.x\n",
    "    best_value = res.fun\n",
    "\n",
    "    return best_param, best_value"
   ]
  },
  {
   "cell_type": "markdown",
   "id": "540740a5",
   "metadata": {},
   "source": [
    "<h3><a class=\"tocSkip\"></a>&nbsp;Parameter recovery</h3>"
   ]
  },
  {
   "cell_type": "code",
   "execution_count": 142,
   "id": "21b6c7f5",
   "metadata": {},
   "outputs": [],
   "source": [
    "def run_parameter_recovery(model, n_agents):\n",
    "    \n",
    "    # Data container\n",
    "    row_list = []\n",
    "\n",
    "    # For each agent...\n",
    "    for i in tqdm(range(n), file=sys.stdout):\n",
    "\n",
    "        # Generate parameters to simualte\n",
    "        param_to_sim = [np.random.uniform(*b)\n",
    "                        for b in model.fit_bounds]\n",
    "\n",
    "        # Simulate\n",
    "        d = run_simulation(model=model, param=param_to_sim)\n",
    "\n",
    "        # Optimize\n",
    "        best_param, best_value = optimize(model=model, data=d)\n",
    "\n",
    "        # Backup\n",
    "        for j in range(len(param_to_sim)):\n",
    "            row_list.append({\n",
    "                \"Parameter\": model.param_labels[j],\n",
    "                \"Used to simulate\": param_to_sim[j],\n",
    "                \"Recovered\": best_param[j]})\n",
    "    \n",
    "    df = pd.DataFrame(row_list)\n",
    "    \n",
    "    return df"
   ]
  },
  {
   "cell_type": "code",
   "execution_count": 134,
   "id": "e8437e99",
   "metadata": {},
   "outputs": [],
   "source": [
    "def plot_parameter_recovery(model, df):\n",
    "    \n",
    "    # Plot\n",
    "    param_names=model.param_labels\n",
    "    param_bounds=model.fit_bounds\n",
    "    n_param = len(param_names)\n",
    "\n",
    "    # Define colors\n",
    "    colors = [f'C{i}' for i in range(n_param)]\n",
    "\n",
    "    # Create fig and axes\n",
    "    fig, axes = plt.subplots(ncols=n_param,\n",
    "                             figsize=(8, 8))\n",
    "\n",
    "    for i in range(n_param):\n",
    "\n",
    "        # Select ax\n",
    "        if n_param > 1:\n",
    "            ax = axes[i]\n",
    "        else:\n",
    "            ax = axes\n",
    "\n",
    "        # Get param name\n",
    "        p_name = param_names[i]\n",
    "\n",
    "        # Set title\n",
    "        ax.set_title(p_name)\n",
    "\n",
    "        # Create scatter\n",
    "        sns.scatterplot(data=df[df[\"Parameter\"] == p_name], \n",
    "                        x=\"Used to simulate\", y=\"Recovered\", \n",
    "                        alpha=0.5, color=colors[i], \n",
    "                        ax=ax)\n",
    "\n",
    "        # Plot identity function\n",
    "        ax.plot(param_bounds[i], param_bounds[i], \n",
    "                linestyle=\"--\", alpha=0.5, color=\"black\", zorder=-10)\n",
    "\n",
    "        # Set axes limits\n",
    "        ax.set_xlim(*param_bounds[i])\n",
    "        ax.set_ylim(*param_bounds[i])\n",
    "\n",
    "        # Square aspect\n",
    "        ax.set_aspect(1)\n",
    "\n",
    "    plt.tight_layout()\n",
    "    plt.show()"
   ]
  },
  {
   "cell_type": "markdown",
   "id": "d6025f1e",
   "metadata": {},
   "source": [
    "<h3><a class=\"tocSkip\"></a>&nbsp;Model comparison</h3>"
   ]
  },
  {
   "cell_type": "code",
   "execution_count": 160,
   "id": "0dc1cfec",
   "metadata": {},
   "outputs": [],
   "source": [
    "########INSERT THE CORRECT FUNCTIONS FROM LECTURE MATERIALS HERE########"
   ]
  },
  {
   "cell_type": "markdown",
   "id": "e272e73f",
   "metadata": {},
   "source": [
    "Please refer to the lecture for the definition of these models. "
   ]
  },
  {
   "cell_type": "markdown",
   "id": "bc6461f7",
   "metadata": {},
   "source": [
    "<h2><a class=\"tocSkip\"></a>&nbsp;Exercise 1: Fine-tune an experiment (parameter recovery)</h2>"
   ]
  },
  {
   "cell_type": "markdown",
   "id": "f733302d",
   "metadata": {},
   "source": [
    "\n",
    "We are interested in modeling a player in a multi armed bandit task. Our hypothesis is that the player behaves according to one of the following models:\n",
    "<li>Random\n",
    "<li>Win-stay lose-switch\n",
    "<li>Rescorla-Wagner "
   ]
  },
  {
   "cell_type": "markdown",
   "id": "7977de2f",
   "metadata": {},
   "source": [
    "The data for testing this hypothesis has not been collected yet. A colleague suggests that you use the following design for the task:"
   ]
  },
  {
   "cell_type": "code",
   "execution_count": 156,
   "id": "256473e4",
   "metadata": {},
   "outputs": [],
   "source": [
    "# Define the parameters of the bandit task\n",
    "\n",
    "N = 3 # Number of options\n",
    "P = np.array([0.11, 0.13, 0.12]) # Probability of different options\n",
    "T = 10 # Number of trials"
   ]
  },
  {
   "cell_type": "markdown",
   "id": "cf97eb48",
   "metadata": {},
   "source": [
    "Where $N$ is the number of options, $P$ is a vector containing probabilities of a successful draw from each of the options and $T$ is the number of iterations. However, you notice that parameter recovery results for this task are very bad (using the same model definitions as in the lecture), when you consider Rescorla-Wagner and Win-stay lose-switch as models. Your task is to fine-tune the experiment to produce adequate parameter recovery results for these two models (visual inspection is enough). You may change any of $N$, $P$ or $T$ to re-design the task. Please report:"
   ]
  },
  {
   "cell_type": "markdown",
   "id": "c9de8599",
   "metadata": {},
   "source": [
    "<p style=\"font-size:134x; padding-left: 120px; padding-right: 120px;text-align: left;line-height:150%;\">\n",
    "<ol type=\"A\">\n",
    "  <li>The values for $N$, $P$ and $T$ you chose to use.</li>\n",
    "  <li>A plot of generating and recovered parameters for <b>both</b> Rescorla-Wagner and Win-stay lose-switch, with an interpretation.</li>\n",
    "  <li>An explanation of why your proposition in (1) is an improvement upon the original task design.</li>\n",
    "</ol>\n",
    "</p>"
   ]
  },
  {
   "cell_type": "markdown",
   "id": "c4c3007f",
   "metadata": {},
   "source": [
    "The parameter recovery results are shown below for one model. You can use this code to answer the questions above."
   ]
  },
  {
   "cell_type": "code",
   "execution_count": 150,
   "id": "69238b4d",
   "metadata": {},
   "outputs": [],
   "source": [
    "if N == 3 and T==10 and (P==np.array([0.11, 0.13, 0.12])).all():\n",
    "    print(\"----\")\n",
    "    print(\"STOP\")\n",
    "    print(\"----\")\n",
    "    print (\"Please change the values for T, P and T.\")"
   ]
  },
  {
   "cell_type": "code",
   "execution_count": 137,
   "id": "6073ac71",
   "metadata": {},
   "outputs": [
    {
     "name": "stdout",
     "output_type": "stream",
     "text": [
      "100%|███████████████████████████████████████████| 30/30 [00:00<00:00, 36.34it/s]\n"
     ]
    }
   ],
   "source": [
    "# Seed the pseudo-random number generator\n",
    "np.random.seed(1284)\n",
    "\n",
    "# Select one model\n",
    "model = RW\n",
    "\n",
    "# Define the number of agents to simulate\n",
    "n = 30 \n",
    "\n",
    "# Data container\n",
    "row_list = []\n",
    "\n",
    "df = run_parameter_recovery(model=model, n_agents = n)\n",
    "\n",
    "# Create dataframe and save it\n",
    "df.to_csv(os.path.join(BKP_FOLDER, \"likelihood_explo.csv\"))"
   ]
  },
  {
   "cell_type": "code",
   "execution_count": 138,
   "id": "102178a8",
   "metadata": {},
   "outputs": [
    {
     "data": {
      "text/html": [
       "<div>\n",
       "<style scoped>\n",
       "    .dataframe tbody tr th:only-of-type {\n",
       "        vertical-align: middle;\n",
       "    }\n",
       "\n",
       "    .dataframe tbody tr th {\n",
       "        vertical-align: top;\n",
       "    }\n",
       "\n",
       "    .dataframe thead th {\n",
       "        text-align: right;\n",
       "    }\n",
       "</style>\n",
       "<table border=\"1\" class=\"dataframe\">\n",
       "  <thead>\n",
       "    <tr style=\"text-align: right;\">\n",
       "      <th></th>\n",
       "      <th>Parameter</th>\n",
       "      <th>Used to simulate</th>\n",
       "      <th>Recovered</th>\n",
       "    </tr>\n",
       "  </thead>\n",
       "  <tbody>\n",
       "    <tr>\n",
       "      <th>0</th>\n",
       "      <td>$\\alpha$</td>\n",
       "      <td>0.774765</td>\n",
       "      <td>0.392578</td>\n",
       "    </tr>\n",
       "    <tr>\n",
       "      <th>1</th>\n",
       "      <td>$\\beta$</td>\n",
       "      <td>15.400237</td>\n",
       "      <td>20.000000</td>\n",
       "    </tr>\n",
       "    <tr>\n",
       "      <th>2</th>\n",
       "      <td>$\\alpha$</td>\n",
       "      <td>0.040609</td>\n",
       "      <td>0.016336</td>\n",
       "    </tr>\n",
       "    <tr>\n",
       "      <th>3</th>\n",
       "      <td>$\\beta$</td>\n",
       "      <td>18.269609</td>\n",
       "      <td>20.000000</td>\n",
       "    </tr>\n",
       "    <tr>\n",
       "      <th>4</th>\n",
       "      <td>$\\alpha$</td>\n",
       "      <td>0.370267</td>\n",
       "      <td>0.197671</td>\n",
       "    </tr>\n",
       "  </tbody>\n",
       "</table>\n",
       "</div>"
      ],
      "text/plain": [
       "  Parameter  Used to simulate  Recovered\n",
       "0  $\\alpha$          0.774765   0.392578\n",
       "1   $\\beta$         15.400237  20.000000\n",
       "2  $\\alpha$          0.040609   0.016336\n",
       "3   $\\beta$         18.269609  20.000000\n",
       "4  $\\alpha$          0.370267   0.197671"
      ]
     },
     "metadata": {},
     "output_type": "display_data"
    }
   ],
   "source": [
    "# Load the dataframe and display it\n",
    "df = pd.read_csv(os.path.join(BKP_FOLDER, \"likelihood_explo.csv\"), index_col=[0])\n",
    "display(df.head())"
   ]
  },
  {
   "cell_type": "code",
   "execution_count": 139,
   "id": "c4226df3",
   "metadata": {
    "scrolled": false
   },
   "outputs": [
    {
     "data": {
      "image/png": "[encoded data removed]",
      "text/plain": [
       "<Figure size 576x576 with 2 Axes>"
      ]
     },
     "metadata": {
      "image/png": {
       "height": 285,
       "width": 568
      },
      "needs_background": "light"
     },
     "output_type": "display_data"
    }
   ],
   "source": [
    "plot_parameter_recovery(model=model, df=df)"
   ]
  },
  {
   "cell_type": "markdown",
   "id": "0e6a9c34",
   "metadata": {},
   "source": [
    "<font color=\"red\"><i>Please provide your solution here</i></font>"
   ]
  },
  {
   "cell_type": "code",
   "execution_count": 162,
   "id": "a8f1e15a",
   "metadata": {},
   "outputs": [],
   "source": [
    "########PROVIDE YOUR IMPLEMENTATION HERE########"
   ]
  },
  {
   "cell_type": "markdown",
   "id": "e165f42b",
   "metadata": {},
   "source": [
    "<h2><a class=\"tocSkip\"></a>&nbsp;Exercise 2: Build a computational model (model comparison)</h2>"
   ]
  },
  {
   "cell_type": "markdown",
   "id": "075f4de9",
   "metadata": {},
   "source": [
    "\n",
    "We are still interested in modeling players in a multi armed bandit task. Our hypothesis is that one player behaves according to one of the following models:\n",
    "<li>Random\n",
    "<li>Win-stay lose-switch\n",
    "<li>Rescorla-Wagner "
   ]
  },
  {
   "cell_type": "markdown",
   "id": "eb29a1ce",
   "metadata": {},
   "source": [
    "You are given data collected for a multi-armed bandit task with the following task design:"
   ]
  },
  {
   "cell_type": "code",
   "execution_count": 13,
   "id": "3a5ba56e",
   "metadata": {},
   "outputs": [],
   "source": [
    "# Define the parameters of the bandit task\n",
    "\n",
    "N = 4 # Number of options\n",
    "P = np.array([0.12,0.89,0.88,0.10]) # Probability of different options\n",
    "T = 400 # Number of trials"
   ]
  },
  {
   "cell_type": "markdown",
   "id": "4ea89949",
   "metadata": {},
   "source": [
    "Please ensure that you have run the cell above before attempting exercise 2."
   ]
  },
  {
   "cell_type": "code",
   "execution_count": 14,
   "id": "17559413",
   "metadata": {},
   "outputs": [],
   "source": [
    "if N == 3 and T==10 and (P==np.array([0.11, 0.13, 0.12])).all():\n",
    "    print(\"----\")\n",
    "    print(\"STOP\")\n",
    "    print(\"----\")\n",
    "    print (\"Did you change the task definition from exercise 1?\")\n",
    "    \n",
    "    raise(Exception)"
   ]
  },
  {
   "cell_type": "markdown",
   "id": "d5cd95c9",
   "metadata": {},
   "source": [
    "The dataset includes observations from four individuals. Your task is to determine which model (Random, RW, WSLS) best describes each of the individuals as measured by a BIC score (note that they may behave according to different models). You may start with the models provided in the lecture. Please report:"
   ]
  },
  {
   "cell_type": "markdown",
   "id": "01b1653c",
   "metadata": {},
   "source": [
    "<p style=\"font-size:134x; padding-left: 120px; padding-right: 120px;text-align: left;line-height:150%;\">\n",
    "<ol type=\"A\">\n",
    "  <li>The steps you used to obtain the results.</li>\n",
    "  <li>The models that best describe each individual.</li>\n",
    "  <li>An explanation of how you interpreted the BIC scores.</li>\n",
    "</ol>\n",
    "</p>"
   ]
  },
  {
   "cell_type": "markdown",
   "id": "d8640dec",
   "metadata": {},
   "source": [
    "Let's first inspect the data:"
   ]
  },
  {
   "cell_type": "code",
   "execution_count": 16,
   "id": "f717fed0",
   "metadata": {},
   "outputs": [
    {
     "data": {
      "text/html": [
       "<div>\n",
       "<style scoped>\n",
       "    .dataframe tbody tr th:only-of-type {\n",
       "        vertical-align: middle;\n",
       "    }\n",
       "\n",
       "    .dataframe tbody tr th {\n",
       "        vertical-align: top;\n",
       "    }\n",
       "\n",
       "    .dataframe thead th {\n",
       "        text-align: right;\n",
       "    }\n",
       "</style>\n",
       "<table border=\"1\" class=\"dataframe\">\n",
       "  <thead>\n",
       "    <tr style=\"text-align: right;\">\n",
       "      <th></th>\n",
       "      <th>time</th>\n",
       "      <th>choice</th>\n",
       "      <th>success</th>\n",
       "      <th>id</th>\n",
       "    </tr>\n",
       "  </thead>\n",
       "  <tbody>\n",
       "    <tr>\n",
       "      <th>0</th>\n",
       "      <td>0</td>\n",
       "      <td>3</td>\n",
       "      <td>False</td>\n",
       "      <td>0</td>\n",
       "    </tr>\n",
       "    <tr>\n",
       "      <th>1</th>\n",
       "      <td>1</td>\n",
       "      <td>3</td>\n",
       "      <td>False</td>\n",
       "      <td>0</td>\n",
       "    </tr>\n",
       "    <tr>\n",
       "      <th>2</th>\n",
       "      <td>2</td>\n",
       "      <td>3</td>\n",
       "      <td>False</td>\n",
       "      <td>0</td>\n",
       "    </tr>\n",
       "    <tr>\n",
       "      <th>3</th>\n",
       "      <td>3</td>\n",
       "      <td>0</td>\n",
       "      <td>False</td>\n",
       "      <td>0</td>\n",
       "    </tr>\n",
       "    <tr>\n",
       "      <th>4</th>\n",
       "      <td>4</td>\n",
       "      <td>1</td>\n",
       "      <td>True</td>\n",
       "      <td>0</td>\n",
       "    </tr>\n",
       "    <tr>\n",
       "      <th>...</th>\n",
       "      <td>...</td>\n",
       "      <td>...</td>\n",
       "      <td>...</td>\n",
       "      <td>...</td>\n",
       "    </tr>\n",
       "    <tr>\n",
       "      <th>395</th>\n",
       "      <td>395</td>\n",
       "      <td>1</td>\n",
       "      <td>True</td>\n",
       "      <td>3</td>\n",
       "    </tr>\n",
       "    <tr>\n",
       "      <th>396</th>\n",
       "      <td>396</td>\n",
       "      <td>1</td>\n",
       "      <td>True</td>\n",
       "      <td>3</td>\n",
       "    </tr>\n",
       "    <tr>\n",
       "      <th>397</th>\n",
       "      <td>397</td>\n",
       "      <td>1</td>\n",
       "      <td>True</td>\n",
       "      <td>3</td>\n",
       "    </tr>\n",
       "    <tr>\n",
       "      <th>398</th>\n",
       "      <td>398</td>\n",
       "      <td>1</td>\n",
       "      <td>True</td>\n",
       "      <td>3</td>\n",
       "    </tr>\n",
       "    <tr>\n",
       "      <th>399</th>\n",
       "      <td>399</td>\n",
       "      <td>1</td>\n",
       "      <td>True</td>\n",
       "      <td>3</td>\n",
       "    </tr>\n",
       "  </tbody>\n",
       "</table>\n",
       "<p>1600 rows × 4 columns</p>\n",
       "</div>"
      ],
      "text/plain": [
       "     time  choice  success  id\n",
       "0       0       3    False   0\n",
       "1       1       3    False   0\n",
       "2       2       3    False   0\n",
       "3       3       0    False   0\n",
       "4       4       1     True   0\n",
       "..    ...     ...      ...  ..\n",
       "395   395       1     True   3\n",
       "396   396       1     True   3\n",
       "397   397       1     True   3\n",
       "398   398       1     True   3\n",
       "399   399       1     True   3\n",
       "\n",
       "[1600 rows x 4 columns]"
      ]
     },
     "metadata": {},
     "output_type": "display_data"
    }
   ],
   "source": [
    "# Load the data\n",
    "bhv_data = pd.read_csv(os.path.join(DATA_FOLDER, \"bhv_data.csv\"), \n",
    "                         index_col=[0])\n",
    "# Print...\n",
    "display(bhv_data)"
   ]
  },
  {
   "cell_type": "markdown",
   "id": "89c37a9b",
   "metadata": {},
   "source": [
    "Please provide your solution below, indicating which steps you took. Note that you have to copy some code from the lecture."
   ]
  },
  {
   "cell_type": "markdown",
   "id": "39096608",
   "metadata": {},
   "source": [
    "<font color=\"red\"><i>Provide your solution here</i></font>"
   ]
  },
  {
   "cell_type": "code",
   "execution_count": 17,
   "id": "1e4234ca",
   "metadata": {},
   "outputs": [],
   "source": [
    "########PROVIDE YOUR IMPLEMENTATION HERE########"
   ]
  },
  {
   "cell_type": "markdown",
   "id": "37c63e3b",
   "metadata": {},
   "source": [
    "<b>BONUS:</b> You may obtain bonus points if you can propose a model of your own that has a higher BIC score than the models presented in the lecture. "
   ]
  },
  {
   "cell_type": "code",
   "execution_count": 18,
   "id": "b6bc47ee",
   "metadata": {},
   "outputs": [],
   "source": [
    "########PROVIDE YOUR MODEL IMPLEMENTATION HERE (OPTIONAL)########\n",
    "class CustomModel:\n",
    "    pass"
   ]
  }
 ],
 "metadata": {
  "kernelspec": {
   "display_name": "Python 3 (ipykernel)",
   "language": "python",
   "name": "python3"
  },
  "language_info": {
   "codemirror_mode": {
    "name": "ipython",
    "version": 3
   },
   "file_extension": ".py",
   "mimetype": "text/x-python",
   "name": "python",
   "nbconvert_exporter": "python",
   "pygments_lexer": "ipython3",
   "version": "3.7.3"
  },
  "toc": {
   "base_numbering": 1,
   "nav_menu": {},
   "number_sections": true,
   "sideBar": true,
   "skip_h1_title": false,
   "title_cell": "Table of Contents",
   "title_sidebar": "Contents",
   "toc_cell": false,
   "toc_position": {},
   "toc_section_display": true,
   "toc_window_display": false
  }
 },
 "nbformat": 4,
 "nbformat_minor": 5
}
